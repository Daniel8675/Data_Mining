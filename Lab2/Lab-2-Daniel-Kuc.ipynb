{
  "cells": [
    {
      "cell_type": "code",
      "execution_count": 1,
      "metadata": {
        "colab": {
          "base_uri": "https://localhost:8080/"
        },
        "id": "8YxcUJdVzpYT",
        "outputId": "74e3d108-08e4-40a2-c2e4-7083bdf2a94a"
      },
      "outputs": [
        {
          "output_type": "stream",
          "name": "stdout",
          "text": [
            "ed-titanic-test.csv  ed-titanic-training.csv  nyt-frame.csv  sample_data\n"
          ]
        }
      ],
      "source": [
        "!ls"
      ]
    },
    {
      "cell_type": "markdown",
      "metadata": {
        "id": "oz_Nz6SU526d"
      },
      "source": [
        "# Zadanie 5"
      ]
    },
    {
      "cell_type": "markdown",
      "metadata": {
        "id": "dfRzQGHF5y3G"
      },
      "source": []
    },
    {
      "cell_type": "code",
      "execution_count": 2,
      "metadata": {
        "id": "9ulZy4xn0J7y"
      },
      "outputs": [],
      "source": [
        "import pandas as pd\n",
        "train = pd.read_csv('ed-titanic-training.csv')\n",
        "test = pd.read_csv('ed-titanic-test.csv')\n",
        "train.loc[train['Age'] >= 65, 'Age'] = 4\n",
        "test.loc[test['Age'] >= 65, 'Age'] = 4"
      ]
    },
    {
      "cell_type": "code",
      "execution_count": 3,
      "metadata": {
        "id": "eaIYaQskUdqh"
      },
      "outputs": [],
      "source": [
        "del train['Unnamed: 0']\n",
        "del test['Unnamed: 0']"
      ]
    },
    {
      "cell_type": "code",
      "execution_count": null,
      "metadata": {
        "colab": {
          "base_uri": "https://localhost:8080/"
        },
        "id": "H4oHesctCiAF",
        "outputId": "6ac6dbb2-c643-4592-fa12-81650eb522ba"
      },
      "outputs": [
        {
          "output_type": "execute_result",
          "data": {
            "text/plain": [
              "{0, 1, 2, 3, 4}"
            ]
          },
          "metadata": {},
          "execution_count": 4
        }
      ],
      "source": [
        "set(test['Age'].values)"
      ]
    },
    {
      "cell_type": "code",
      "execution_count": null,
      "metadata": {
        "colab": {
          "base_uri": "https://localhost:8080/"
        },
        "id": "NSy1tp2jCmfi",
        "outputId": "ca2bec9a-7b61-465d-bd23-ba5c12307934"
      },
      "outputs": [
        {
          "output_type": "execute_result",
          "data": {
            "text/plain": [
              "{0, 1, 2, 3, 4}"
            ]
          },
          "metadata": {},
          "execution_count": 5
        }
      ],
      "source": [
        "set(train['Age'].values)"
      ]
    },
    {
      "cell_type": "code",
      "execution_count": null,
      "metadata": {
        "colab": {
          "base_uri": "https://localhost:8080/",
          "height": 206
        },
        "id": "A4W5x-aSCt33",
        "outputId": "55b079f2-2a66-4e10-a6ca-e47f2bb87fac"
      },
      "outputs": [
        {
          "output_type": "execute_result",
          "data": {
            "text/plain": [
              "   Survived  Pclass  Sex  Age  Parch  Fare  Embarked  Has_Cabin  FamilySize  \\\n",
              "0         0       3    1    1      0     0         0          0           2   \n",
              "1         1       1    0    2      0     3         1          1           2   \n",
              "2         1       3    0    1      0     1         0          0           1   \n",
              "3         1       1    0    2      0     3         0          1           2   \n",
              "4         0       3    1    2      0     1         0          0           1   \n",
              "\n",
              "   IsAlone  Title  \n",
              "0        0      1  \n",
              "1        0      3  \n",
              "2        1      4  \n",
              "3        0      3  \n",
              "4        1      1  "
            ],
            "text/html": [
              "\n",
              "  <div id=\"df-bb536a8b-e1e3-4e80-a352-a24a703f7e6d\">\n",
              "    <div class=\"colab-df-container\">\n",
              "      <div>\n",
              "<style scoped>\n",
              "    .dataframe tbody tr th:only-of-type {\n",
              "        vertical-align: middle;\n",
              "    }\n",
              "\n",
              "    .dataframe tbody tr th {\n",
              "        vertical-align: top;\n",
              "    }\n",
              "\n",
              "    .dataframe thead th {\n",
              "        text-align: right;\n",
              "    }\n",
              "</style>\n",
              "<table border=\"1\" class=\"dataframe\">\n",
              "  <thead>\n",
              "    <tr style=\"text-align: right;\">\n",
              "      <th></th>\n",
              "      <th>Survived</th>\n",
              "      <th>Pclass</th>\n",
              "      <th>Sex</th>\n",
              "      <th>Age</th>\n",
              "      <th>Parch</th>\n",
              "      <th>Fare</th>\n",
              "      <th>Embarked</th>\n",
              "      <th>Has_Cabin</th>\n",
              "      <th>FamilySize</th>\n",
              "      <th>IsAlone</th>\n",
              "      <th>Title</th>\n",
              "    </tr>\n",
              "  </thead>\n",
              "  <tbody>\n",
              "    <tr>\n",
              "      <th>0</th>\n",
              "      <td>0</td>\n",
              "      <td>3</td>\n",
              "      <td>1</td>\n",
              "      <td>1</td>\n",
              "      <td>0</td>\n",
              "      <td>0</td>\n",
              "      <td>0</td>\n",
              "      <td>0</td>\n",
              "      <td>2</td>\n",
              "      <td>0</td>\n",
              "      <td>1</td>\n",
              "    </tr>\n",
              "    <tr>\n",
              "      <th>1</th>\n",
              "      <td>1</td>\n",
              "      <td>1</td>\n",
              "      <td>0</td>\n",
              "      <td>2</td>\n",
              "      <td>0</td>\n",
              "      <td>3</td>\n",
              "      <td>1</td>\n",
              "      <td>1</td>\n",
              "      <td>2</td>\n",
              "      <td>0</td>\n",
              "      <td>3</td>\n",
              "    </tr>\n",
              "    <tr>\n",
              "      <th>2</th>\n",
              "      <td>1</td>\n",
              "      <td>3</td>\n",
              "      <td>0</td>\n",
              "      <td>1</td>\n",
              "      <td>0</td>\n",
              "      <td>1</td>\n",
              "      <td>0</td>\n",
              "      <td>0</td>\n",
              "      <td>1</td>\n",
              "      <td>1</td>\n",
              "      <td>4</td>\n",
              "    </tr>\n",
              "    <tr>\n",
              "      <th>3</th>\n",
              "      <td>1</td>\n",
              "      <td>1</td>\n",
              "      <td>0</td>\n",
              "      <td>2</td>\n",
              "      <td>0</td>\n",
              "      <td>3</td>\n",
              "      <td>0</td>\n",
              "      <td>1</td>\n",
              "      <td>2</td>\n",
              "      <td>0</td>\n",
              "      <td>3</td>\n",
              "    </tr>\n",
              "    <tr>\n",
              "      <th>4</th>\n",
              "      <td>0</td>\n",
              "      <td>3</td>\n",
              "      <td>1</td>\n",
              "      <td>2</td>\n",
              "      <td>0</td>\n",
              "      <td>1</td>\n",
              "      <td>0</td>\n",
              "      <td>0</td>\n",
              "      <td>1</td>\n",
              "      <td>1</td>\n",
              "      <td>1</td>\n",
              "    </tr>\n",
              "  </tbody>\n",
              "</table>\n",
              "</div>\n",
              "      <button class=\"colab-df-convert\" onclick=\"convertToInteractive('df-bb536a8b-e1e3-4e80-a352-a24a703f7e6d')\"\n",
              "              title=\"Convert this dataframe to an interactive table.\"\n",
              "              style=\"display:none;\">\n",
              "        \n",
              "  <svg xmlns=\"http://www.w3.org/2000/svg\" height=\"24px\"viewBox=\"0 0 24 24\"\n",
              "       width=\"24px\">\n",
              "    <path d=\"M0 0h24v24H0V0z\" fill=\"none\"/>\n",
              "    <path d=\"M18.56 5.44l.94 2.06.94-2.06 2.06-.94-2.06-.94-.94-2.06-.94 2.06-2.06.94zm-11 1L8.5 8.5l.94-2.06 2.06-.94-2.06-.94L8.5 2.5l-.94 2.06-2.06.94zm10 10l.94 2.06.94-2.06 2.06-.94-2.06-.94-.94-2.06-.94 2.06-2.06.94z\"/><path d=\"M17.41 7.96l-1.37-1.37c-.4-.4-.92-.59-1.43-.59-.52 0-1.04.2-1.43.59L10.3 9.45l-7.72 7.72c-.78.78-.78 2.05 0 2.83L4 21.41c.39.39.9.59 1.41.59.51 0 1.02-.2 1.41-.59l7.78-7.78 2.81-2.81c.8-.78.8-2.07 0-2.86zM5.41 20L4 18.59l7.72-7.72 1.47 1.35L5.41 20z\"/>\n",
              "  </svg>\n",
              "      </button>\n",
              "      \n",
              "  <style>\n",
              "    .colab-df-container {\n",
              "      display:flex;\n",
              "      flex-wrap:wrap;\n",
              "      gap: 12px;\n",
              "    }\n",
              "\n",
              "    .colab-df-convert {\n",
              "      background-color: #E8F0FE;\n",
              "      border: none;\n",
              "      border-radius: 50%;\n",
              "      cursor: pointer;\n",
              "      display: none;\n",
              "      fill: #1967D2;\n",
              "      height: 32px;\n",
              "      padding: 0 0 0 0;\n",
              "      width: 32px;\n",
              "    }\n",
              "\n",
              "    .colab-df-convert:hover {\n",
              "      background-color: #E2EBFA;\n",
              "      box-shadow: 0px 1px 2px rgba(60, 64, 67, 0.3), 0px 1px 3px 1px rgba(60, 64, 67, 0.15);\n",
              "      fill: #174EA6;\n",
              "    }\n",
              "\n",
              "    [theme=dark] .colab-df-convert {\n",
              "      background-color: #3B4455;\n",
              "      fill: #D2E3FC;\n",
              "    }\n",
              "\n",
              "    [theme=dark] .colab-df-convert:hover {\n",
              "      background-color: #434B5C;\n",
              "      box-shadow: 0px 1px 3px 1px rgba(0, 0, 0, 0.15);\n",
              "      filter: drop-shadow(0px 1px 2px rgba(0, 0, 0, 0.3));\n",
              "      fill: #FFFFFF;\n",
              "    }\n",
              "  </style>\n",
              "\n",
              "      <script>\n",
              "        const buttonEl =\n",
              "          document.querySelector('#df-bb536a8b-e1e3-4e80-a352-a24a703f7e6d button.colab-df-convert');\n",
              "        buttonEl.style.display =\n",
              "          google.colab.kernel.accessAllowed ? 'block' : 'none';\n",
              "\n",
              "        async function convertToInteractive(key) {\n",
              "          const element = document.querySelector('#df-bb536a8b-e1e3-4e80-a352-a24a703f7e6d');\n",
              "          const dataTable =\n",
              "            await google.colab.kernel.invokeFunction('convertToInteractive',\n",
              "                                                     [key], {});\n",
              "          if (!dataTable) return;\n",
              "\n",
              "          const docLinkHtml = 'Like what you see? Visit the ' +\n",
              "            '<a target=\"_blank\" href=https://colab.research.google.com/notebooks/data_table.ipynb>data table notebook</a>'\n",
              "            + ' to learn more about interactive tables.';\n",
              "          element.innerHTML = '';\n",
              "          dataTable['output_type'] = 'display_data';\n",
              "          await google.colab.output.renderOutput(dataTable, element);\n",
              "          const docLink = document.createElement('div');\n",
              "          docLink.innerHTML = docLinkHtml;\n",
              "          element.appendChild(docLink);\n",
              "        }\n",
              "      </script>\n",
              "    </div>\n",
              "  </div>\n",
              "  "
            ]
          },
          "metadata": {},
          "execution_count": 6
        }
      ],
      "source": [
        "train.head(5)"
      ]
    },
    {
      "cell_type": "markdown",
      "metadata": {
        "id": "5zihlrnJCBmL"
      },
      "source": []
    },
    {
      "cell_type": "code",
      "execution_count": null,
      "metadata": {
        "colab": {
          "base_uri": "https://localhost:8080/",
          "height": 983
        },
        "id": "D8BM9Iw80knX",
        "outputId": "aad692a8-c343-4bd4-d844-762ce7a6aac1"
      },
      "outputs": [
        {
          "output_type": "execute_result",
          "data": {
            "text/plain": [
              "<Axes: title={'center': 'Pearson Correlation of Features'}>"
            ]
          },
          "metadata": {},
          "execution_count": 7
        },
        {
          "output_type": "display_data",
          "data": {
            "text/plain": [
              "<Figure size 1200x1200 with 2 Axes>"
            ],
            "image/png": "[encoded data removed]"
          },
          "metadata": {}
        }
      ],
      "source": [
        "import matplotlib.pyplot as plt\n",
        "import seaborn as sns\n",
        "colormap = plt.cm.viridis\n",
        "plt.figure(figsize=(12,12))\n",
        "plt.title('Pearson Correlation of Features', y=1.05, size=15)\n",
        "sns.heatmap(train.astype(float).corr(),linewidths=0.1,vmax=1.0,\n",
        "square=True, cmap=colormap, linecolor='white', annot=True)"
      ]
    },
    {
      "cell_type": "markdown",
      "source": [
        "**Najbardziej skorelowane cechy z przeżywalnością to płeć, tytuł oraz wiek.**\n",
        "\n",
        "**Najbardziej skorelowane cechy ze sobą to: (Sex, Title) oraz (Parch, FamilySize)**"
      ],
      "metadata": {
        "id": "O7FZXQJADuPU"
      }
    },
    {
      "cell_type": "code",
      "execution_count": null,
      "metadata": {
        "colab": {
          "base_uri": "https://localhost:8080/",
          "height": 237
        },
        "id": "YkacjUEl1Kj-",
        "outputId": "b7ce43a0-473d-49ee-93d5-b97380973d27"
      },
      "outputs": [
        {
          "output_type": "execute_result",
          "data": {
            "text/plain": [
              "       Survived\n",
              "Title          \n",
              "1      0.156673\n",
              "2      0.575000\n",
              "3      0.793651\n",
              "4      0.702703\n",
              "5      0.347826"
            ],
            "text/html": [
              "\n",
              "  <div id=\"df-16e1ff61-2189-454f-ad2b-4e962a61a8e4\">\n",
              "    <div class=\"colab-df-container\">\n",
              "      <div>\n",
              "<style scoped>\n",
              "    .dataframe tbody tr th:only-of-type {\n",
              "        vertical-align: middle;\n",
              "    }\n",
              "\n",
              "    .dataframe tbody tr th {\n",
              "        vertical-align: top;\n",
              "    }\n",
              "\n",
              "    .dataframe thead th {\n",
              "        text-align: right;\n",
              "    }\n",
              "</style>\n",
              "<table border=\"1\" class=\"dataframe\">\n",
              "  <thead>\n",
              "    <tr style=\"text-align: right;\">\n",
              "      <th></th>\n",
              "      <th>Survived</th>\n",
              "    </tr>\n",
              "    <tr>\n",
              "      <th>Title</th>\n",
              "      <th></th>\n",
              "    </tr>\n",
              "  </thead>\n",
              "  <tbody>\n",
              "    <tr>\n",
              "      <th>1</th>\n",
              "      <td>0.156673</td>\n",
              "    </tr>\n",
              "    <tr>\n",
              "      <th>2</th>\n",
              "      <td>0.575000</td>\n",
              "    </tr>\n",
              "    <tr>\n",
              "      <th>3</th>\n",
              "      <td>0.793651</td>\n",
              "    </tr>\n",
              "    <tr>\n",
              "      <th>4</th>\n",
              "      <td>0.702703</td>\n",
              "    </tr>\n",
              "    <tr>\n",
              "      <th>5</th>\n",
              "      <td>0.347826</td>\n",
              "    </tr>\n",
              "  </tbody>\n",
              "</table>\n",
              "</div>\n",
              "      <button class=\"colab-df-convert\" onclick=\"convertToInteractive('df-16e1ff61-2189-454f-ad2b-4e962a61a8e4')\"\n",
              "              title=\"Convert this dataframe to an interactive table.\"\n",
              "              style=\"display:none;\">\n",
              "        \n",
              "  <svg xmlns=\"http://www.w3.org/2000/svg\" height=\"24px\"viewBox=\"0 0 24 24\"\n",
              "       width=\"24px\">\n",
              "    <path d=\"M0 0h24v24H0V0z\" fill=\"none\"/>\n",
              "    <path d=\"M18.56 5.44l.94 2.06.94-2.06 2.06-.94-2.06-.94-.94-2.06-.94 2.06-2.06.94zm-11 1L8.5 8.5l.94-2.06 2.06-.94-2.06-.94L8.5 2.5l-.94 2.06-2.06.94zm10 10l.94 2.06.94-2.06 2.06-.94-2.06-.94-.94-2.06-.94 2.06-2.06.94z\"/><path d=\"M17.41 7.96l-1.37-1.37c-.4-.4-.92-.59-1.43-.59-.52 0-1.04.2-1.43.59L10.3 9.45l-7.72 7.72c-.78.78-.78 2.05 0 2.83L4 21.41c.39.39.9.59 1.41.59.51 0 1.02-.2 1.41-.59l7.78-7.78 2.81-2.81c.8-.78.8-2.07 0-2.86zM5.41 20L4 18.59l7.72-7.72 1.47 1.35L5.41 20z\"/>\n",
              "  </svg>\n",
              "      </button>\n",
              "      \n",
              "  <style>\n",
              "    .colab-df-container {\n",
              "      display:flex;\n",
              "      flex-wrap:wrap;\n",
              "      gap: 12px;\n",
              "    }\n",
              "\n",
              "    .colab-df-convert {\n",
              "      background-color: #E8F0FE;\n",
              "      border: none;\n",
              "      border-radius: 50%;\n",
              "      cursor: pointer;\n",
              "      display: none;\n",
              "      fill: #1967D2;\n",
              "      height: 32px;\n",
              "      padding: 0 0 0 0;\n",
              "      width: 32px;\n",
              "    }\n",
              "\n",
              "    .colab-df-convert:hover {\n",
              "      background-color: #E2EBFA;\n",
              "      box-shadow: 0px 1px 2px rgba(60, 64, 67, 0.3), 0px 1px 3px 1px rgba(60, 64, 67, 0.15);\n",
              "      fill: #174EA6;\n",
              "    }\n",
              "\n",
              "    [theme=dark] .colab-df-convert {\n",
              "      background-color: #3B4455;\n",
              "      fill: #D2E3FC;\n",
              "    }\n",
              "\n",
              "    [theme=dark] .colab-df-convert:hover {\n",
              "      background-color: #434B5C;\n",
              "      box-shadow: 0px 1px 3px 1px rgba(0, 0, 0, 0.15);\n",
              "      filter: drop-shadow(0px 1px 2px rgba(0, 0, 0, 0.3));\n",
              "      fill: #FFFFFF;\n",
              "    }\n",
              "  </style>\n",
              "\n",
              "      <script>\n",
              "        const buttonEl =\n",
              "          document.querySelector('#df-16e1ff61-2189-454f-ad2b-4e962a61a8e4 button.colab-df-convert');\n",
              "        buttonEl.style.display =\n",
              "          google.colab.kernel.accessAllowed ? 'block' : 'none';\n",
              "\n",
              "        async function convertToInteractive(key) {\n",
              "          const element = document.querySelector('#df-16e1ff61-2189-454f-ad2b-4e962a61a8e4');\n",
              "          const dataTable =\n",
              "            await google.colab.kernel.invokeFunction('convertToInteractive',\n",
              "                                                     [key], {});\n",
              "          if (!dataTable) return;\n",
              "\n",
              "          const docLinkHtml = 'Like what you see? Visit the ' +\n",
              "            '<a target=\"_blank\" href=https://colab.research.google.com/notebooks/data_table.ipynb>data table notebook</a>'\n",
              "            + ' to learn more about interactive tables.';\n",
              "          element.innerHTML = '';\n",
              "          dataTable['output_type'] = 'display_data';\n",
              "          await google.colab.output.renderOutput(dataTable, element);\n",
              "          const docLink = document.createElement('div');\n",
              "          docLink.innerHTML = docLinkHtml;\n",
              "          element.appendChild(docLink);\n",
              "        }\n",
              "      </script>\n",
              "    </div>\n",
              "  </div>\n",
              "  "
            ]
          },
          "metadata": {},
          "execution_count": 8
        }
      ],
      "source": [
        "train.loc[:, ['Title', 'Survived']].groupby('Title').mean()"
      ]
    },
    {
      "cell_type": "code",
      "execution_count": 4,
      "metadata": {
        "id": "tjH2SQuF3m_Y"
      },
      "outputs": [],
      "source": [
        "X_train = train.loc[:, train.columns != 'Survived']\n",
        "y_train = train.loc[:, 'Survived']"
      ]
    },
    {
      "cell_type": "code",
      "execution_count": 5,
      "metadata": {
        "id": "oT64RfX_Upnl"
      },
      "outputs": [],
      "source": [
        "from sklearn.tree import DecisionTreeClassifier\n",
        "from sklearn.model_selection import cross_val_score"
      ]
    },
    {
      "cell_type": "code",
      "execution_count": 6,
      "metadata": {
        "id": "pb3p8_caU6_5"
      },
      "outputs": [],
      "source": [
        "criterions = ['gini', 'entropy']\n",
        "scores = []\n",
        "dephts = range(1, 11)\n",
        "\n",
        "for criterion in criterions:\n",
        "    for depht in dephts:\n",
        "        clf = DecisionTreeClassifier(criterion=criterion, max_depth=depht)\n",
        "        cv_scores = cross_val_score(clf, X_train, y_train, cv=10)\n",
        "        scores.append((criterion, depht, cv_scores.mean()))"
      ]
    },
    {
      "cell_type": "code",
      "execution_count": null,
      "metadata": {
        "colab": {
          "base_uri": "https://localhost:8080/"
        },
        "id": "tFX8EMARAYX9",
        "outputId": "856d4a00-2df5-443d-deea-e8d527590a27"
      },
      "outputs": [
        {
          "output_type": "execute_result",
          "data": {
            "text/plain": [
              "[('gini', 1, 0.7822846441947565),\n",
              " ('gini', 2, 0.7912983770287141),\n",
              " ('gini', 3, 0.8305243445692885),\n",
              " ('gini', 4, 0.8125468164794007),\n",
              " ('gini', 5, 0.8103245942571785),\n",
              " ('gini', 6, 0.8059051186017477),\n",
              " ('gini', 7, 0.8148564294631709),\n",
              " ('gini', 8, 0.8059051186017477),\n",
              " ('gini', 9, 0.8238451935081148),\n",
              " ('gini', 10, 0.8205118601747815),\n",
              " ('entropy', 1, 0.7822846441947565),\n",
              " ('entropy', 2, 0.7890511860174781),\n",
              " ('entropy', 3, 0.8316479400749064),\n",
              " ('entropy', 4, 0.8215355805243446),\n",
              " ('entropy', 5, 0.8249188514357053),\n",
              " ('entropy', 6, 0.8159800249687891),\n",
              " ('entropy', 7, 0.8069787765293382),\n",
              " ('entropy', 8, 0.8103745318352059),\n",
              " ('entropy', 9, 0.8215730337078652),\n",
              " ('entropy', 10, 0.8092759051186018)]"
            ]
          },
          "metadata": {},
          "execution_count": 12
        }
      ],
      "source": [
        "scores"
      ]
    },
    {
      "cell_type": "code",
      "execution_count": 7,
      "metadata": {
        "id": "a7EHVBvsU_fx"
      },
      "outputs": [],
      "source": [
        "criterions_dummy, dephts, scores = zip(*scores)"
      ]
    },
    {
      "cell_type": "code",
      "execution_count": 9,
      "metadata": {
        "colab": {
          "base_uri": "https://localhost:8080/"
        },
        "id": "qh9JP26MWleJ",
        "outputId": "a1089bde-1c62-4caf-dbc1-4712ed3f2074"
      },
      "outputs": [
        {
          "output_type": "stream",
          "name": "stdout",
          "text": [
            "Best depht for gini is 3.\n"
          ]
        }
      ],
      "source": [
        "best_depht_gini = dephts[scores.index(max(scores[:len(scores) // len(criterions)]))]\n",
        "print(f\"Best depht for {criterions[0]} is {best_depht_gini}.\")"
      ]
    },
    {
      "cell_type": "code",
      "execution_count": 10,
      "metadata": {
        "colab": {
          "base_uri": "https://localhost:8080/"
        },
        "id": "s7HmX6SMXLwi",
        "outputId": "f4a0216d-d946-46cb-f0e8-42a77dfe2668"
      },
      "outputs": [
        {
          "output_type": "stream",
          "name": "stdout",
          "text": [
            "Best depht for entropy is 3.\n"
          ]
        }
      ],
      "source": [
        "best_depht_entropy = dephts[scores.index(max(scores[len(scores) // len(criterions): ]))]\n",
        "print(f\"Best depht for {criterions[1]} is {best_depht_entropy}.\")"
      ]
    },
    {
      "cell_type": "code",
      "execution_count": 11,
      "metadata": {
        "colab": {
          "base_uri": "https://localhost:8080/",
          "height": 74
        },
        "id": "Tw6tkLUjXwKs",
        "outputId": "7f941083-90db-4533-b4b3-a24bc5915d90"
      },
      "outputs": [
        {
          "output_type": "execute_result",
          "data": {
            "text/plain": [
              "DecisionTreeClassifier(criterion='entropy', max_depth=3)"
            ],
            "text/html": [
              "<style>#sk-container-id-1 {color: black;background-color: white;}#sk-container-id-1 pre{padding: 0;}#sk-container-id-1 div.sk-toggleable {background-color: white;}#sk-container-id-1 label.sk-toggleable__label {cursor: pointer;display: block;width: 100%;margin-bottom: 0;padding: 0.3em;box-sizing: border-box;text-align: center;}#sk-container-id-1 label.sk-toggleable__label-arrow:before {content: \"▸\";float: left;margin-right: 0.25em;color: #696969;}#sk-container-id-1 label.sk-toggleable__label-arrow:hover:before {color: black;}#sk-container-id-1 div.sk-estimator:hover label.sk-toggleable__label-arrow:before {color: black;}#sk-container-id-1 div.sk-toggleable__content {max-height: 0;max-width: 0;overflow: hidden;text-align: left;background-color: #f0f8ff;}#sk-container-id-1 div.sk-toggleable__content pre {margin: 0.2em;color: black;border-radius: 0.25em;background-color: #f0f8ff;}#sk-container-id-1 input.sk-toggleable__control:checked~div.sk-toggleable__content {max-height: 200px;max-width: 100%;overflow: auto;}#sk-container-id-1 input.sk-toggleable__control:checked~label.sk-toggleable__label-arrow:before {content: \"▾\";}#sk-container-id-1 div.sk-estimator input.sk-toggleable__control:checked~label.sk-toggleable__label {background-color: #d4ebff;}#sk-container-id-1 div.sk-label input.sk-toggleable__control:checked~label.sk-toggleable__label {background-color: #d4ebff;}#sk-container-id-1 input.sk-hidden--visually {border: 0;clip: rect(1px 1px 1px 1px);clip: rect(1px, 1px, 1px, 1px);height: 1px;margin: -1px;overflow: hidden;padding: 0;position: absolute;width: 1px;}#sk-container-id-1 div.sk-estimator {font-family: monospace;background-color: #f0f8ff;border: 1px dotted black;border-radius: 0.25em;box-sizing: border-box;margin-bottom: 0.5em;}#sk-container-id-1 div.sk-estimator:hover {background-color: #d4ebff;}#sk-container-id-1 div.sk-parallel-item::after {content: \"\";width: 100%;border-bottom: 1px solid gray;flex-grow: 1;}#sk-container-id-1 div.sk-label:hover label.sk-toggleable__label {background-color: #d4ebff;}#sk-container-id-1 div.sk-serial::before {content: \"\";position: absolute;border-left: 1px solid gray;box-sizing: border-box;top: 0;bottom: 0;left: 50%;z-index: 0;}#sk-container-id-1 div.sk-serial {display: flex;flex-direction: column;align-items: center;background-color: white;padding-right: 0.2em;padding-left: 0.2em;position: relative;}#sk-container-id-1 div.sk-item {position: relative;z-index: 1;}#sk-container-id-1 div.sk-parallel {display: flex;align-items: stretch;justify-content: center;background-color: white;position: relative;}#sk-container-id-1 div.sk-item::before, #sk-container-id-1 div.sk-parallel-item::before {content: \"\";position: absolute;border-left: 1px solid gray;box-sizing: border-box;top: 0;bottom: 0;left: 50%;z-index: -1;}#sk-container-id-1 div.sk-parallel-item {display: flex;flex-direction: column;z-index: 1;position: relative;background-color: white;}#sk-container-id-1 div.sk-parallel-item:first-child::after {align-self: flex-end;width: 50%;}#sk-container-id-1 div.sk-parallel-item:last-child::after {align-self: flex-start;width: 50%;}#sk-container-id-1 div.sk-parallel-item:only-child::after {width: 0;}#sk-container-id-1 div.sk-dashed-wrapped {border: 1px dashed gray;margin: 0 0.4em 0.5em 0.4em;box-sizing: border-box;padding-bottom: 0.4em;background-color: white;}#sk-container-id-1 div.sk-label label {font-family: monospace;font-weight: bold;display: inline-block;line-height: 1.2em;}#sk-container-id-1 div.sk-label-container {text-align: center;}#sk-container-id-1 div.sk-container {/* jupyter's `normalize.less` sets `[hidden] { display: none; }` but bootstrap.min.css set `[hidden] { display: none !important; }` so we also need the `!important` here to be able to override the default hidden behavior on the sphinx rendered scikit-learn.org. See: https://github.com/scikit-learn/scikit-learn/issues/21755 */display: inline-block !important;position: relative;}#sk-container-id-1 div.sk-text-repr-fallback {display: none;}</style><div id=\"sk-container-id-1\" class=\"sk-top-container\"><div class=\"sk-text-repr-fallback\"><pre>DecisionTreeClassifier(criterion=&#x27;entropy&#x27;, max_depth=3)</pre><b>In a Jupyter environment, please rerun this cell to show the HTML representation or trust the notebook. <br />On GitHub, the HTML representation is unable to render, please try loading this page with nbviewer.org.</b></div><div class=\"sk-container\" hidden><div class=\"sk-item\"><div class=\"sk-estimator sk-toggleable\"><input class=\"sk-toggleable__control sk-hidden--visually\" id=\"sk-estimator-id-1\" type=\"checkbox\" checked><label for=\"sk-estimator-id-1\" class=\"sk-toggleable__label sk-toggleable__label-arrow\">DecisionTreeClassifier</label><div class=\"sk-toggleable__content\"><pre>DecisionTreeClassifier(criterion=&#x27;entropy&#x27;, max_depth=3)</pre></div></div></div></div></div>"
            ]
          },
          "metadata": {},
          "execution_count": 11
        }
      ],
      "source": [
        "from sklearn import tree\n",
        "decision_tree = tree.DecisionTreeClassifier(max_depth=best_depht_entropy, criterion='entropy')\n",
        "decision_tree.fit(X_train, y_train)"
      ]
    },
    {
      "cell_type": "code",
      "execution_count": 12,
      "metadata": {
        "id": "UCnbdFjQZh8C"
      },
      "outputs": [],
      "source": [
        "prediction = decision_tree.predict(test)"
      ]
    },
    {
      "cell_type": "code",
      "execution_count": 13,
      "metadata": {
        "colab": {
          "base_uri": "https://localhost:8080/"
        },
        "id": "dMsRAuWuZram",
        "outputId": "e841cc35-38b7-404b-8cc3-c70e00b94be5"
      },
      "outputs": [
        {
          "output_type": "execute_result",
          "data": {
            "text/plain": [
              "array([0, 1, 0, 0, 1, 0, 1, 0, 1, 0, 0, 0, 1, 0, 1, 1, 0, 0, 1, 1, 0, 1,\n",
              "       1, 0, 1, 0, 1, 0, 0, 0, 0, 0, 1, 1, 0, 0, 1, 1, 0, 0, 0, 0, 0, 1,\n",
              "       1, 0, 0, 0, 1, 1, 0, 0, 1, 1, 0, 0, 0, 0, 0, 1, 0, 0, 0, 1, 1, 1,\n",
              "       1, 0, 0, 1, 1, 0, 1, 0, 1, 0, 0, 1, 0, 1, 1, 0, 0, 0, 0, 0, 1, 1,\n",
              "       1, 1, 1, 0, 1, 0, 0, 0, 1, 0, 1, 0, 1, 0, 0, 0, 1, 0, 0, 0, 0, 0,\n",
              "       0, 1, 1, 1, 1, 0, 0, 1, 0, 1, 1, 0, 1, 0, 0, 1, 0, 1, 0, 0, 0, 0,\n",
              "       0, 0, 0, 0, 0, 0, 1, 0, 0, 1, 0, 0, 0, 0, 0, 0, 0, 0, 1, 0, 0, 1,\n",
              "       0, 0, 1, 1, 0, 1, 1, 1, 1, 0, 0, 1, 0, 0, 1, 1, 0, 0, 0, 0, 0, 1,\n",
              "       1, 0, 1, 1, 0, 0, 1, 0, 1, 0, 1, 0, 0, 0, 0, 0, 1, 0, 1, 0, 1, 1,\n",
              "       0, 1, 1, 1, 0, 1, 0, 0, 1, 0, 1, 0, 0, 0, 0, 1, 0, 0, 1, 0, 1, 0,\n",
              "       1, 0, 1, 0, 1, 1, 0, 1, 0, 0, 0, 1, 0, 0, 0, 0, 0, 0, 1, 1, 1, 1,\n",
              "       0, 0, 1, 0, 1, 0, 1, 1, 1, 0, 0, 0, 0, 0, 0, 0, 1, 0, 0, 0, 1, 1,\n",
              "       0, 0, 0, 0, 1, 0, 0, 0, 1, 1, 0, 1, 0, 0, 0, 0, 1, 1, 1, 1, 1, 0,\n",
              "       0, 0, 0, 0, 0, 1, 0, 0, 0, 0, 1, 0, 0, 0, 0, 0, 0, 0, 1, 1, 0, 1,\n",
              "       0, 1, 0, 0, 0, 1, 1, 1, 0, 0, 0, 0, 0, 0, 0, 0, 1, 0, 1, 0, 0, 0,\n",
              "       1, 0, 0, 1, 0, 0, 0, 0, 0, 1, 0, 0, 0, 1, 1, 1, 0, 1, 0, 1, 1, 0,\n",
              "       0, 0, 1, 0, 1, 0, 0, 1, 0, 1, 1, 0, 1, 0, 0, 1, 1, 0, 0, 1, 0, 0,\n",
              "       1, 1, 1, 0, 0, 0, 0, 0, 1, 1, 0, 1, 0, 0, 0, 0, 0, 1, 1, 0, 0, 1,\n",
              "       0, 1, 0, 0, 1, 0, 1, 0, 0, 0, 0, 0, 1, 1, 1, 1, 1, 0, 0, 0, 0, 1])"
            ]
          },
          "metadata": {},
          "execution_count": 13
        }
      ],
      "source": [
        "prediction"
      ]
    },
    {
      "cell_type": "code",
      "execution_count": 14,
      "metadata": {
        "id": "t60CkXYMZsYS"
      },
      "outputs": [],
      "source": [
        "from numpy import savetxt\n",
        "savetxt('prediction.csv', prediction, delimiter=',')"
      ]
    },
    {
      "cell_type": "code",
      "execution_count": null,
      "metadata": {
        "colab": {
          "base_uri": "https://localhost:8080/",
          "height": 539
        },
        "id": "VPbt9NhCbM0Q",
        "outputId": "efa7b62d-a7fc-4373-af96-4ebfd153ff74"
      },
      "outputs": [
        {
          "output_type": "execute_result",
          "data": {
            "text/plain": [
              "<IPython.core.display.SVG object>"
            ],
            "image/svg+xml": "<svg xmlns=\"http://www.w3.org/2000/svg\" xmlns:xlink=\"http://www.w3.org/1999/xlink\" width=\"1005pt\" height=\"373pt\" viewBox=\"0.00 0.00 1005.00 373.00\">\n<g id=\"graph0\" class=\"graph\" transform=\"scale(1 1) rotate(0) translate(4 369)\">\n<title>Tree</title>\n<polygon fill=\"white\" stroke=\"transparent\" points=\"-4,4 -4,-369 1001,-369 1001,4 -4,4\"/>\n<!-- 0 -->\n<g id=\"node1\" class=\"node\">\n<title>0</title>\n<polygon fill=\"none\" stroke=\"black\" points=\"544,-365 419,-365 419,-297 544,-297 544,-365\"/>\n<text text-anchor=\"middle\" x=\"481.5\" y=\"-349.8\" font-family=\"Helvetica,sans-Serif\" font-size=\"14.00\">Title &lt;= 1.5</text>\n<text text-anchor=\"middle\" x=\"481.5\" y=\"-334.8\" font-family=\"Helvetica,sans-Serif\" font-size=\"14.00\">entropy = 0.961</text>\n<text text-anchor=\"middle\" x=\"481.5\" y=\"-319.8\" font-family=\"Helvetica,sans-Serif\" font-size=\"14.00\">samples = 891</text>\n<text text-anchor=\"middle\" x=\"481.5\" y=\"-304.8\" font-family=\"Helvetica,sans-Serif\" font-size=\"14.00\">value = [549, 342]</text>\n</g>\n<!-- 1 -->\n<g id=\"node2\" class=\"node\">\n<title>1</title>\n<polygon fill=\"none\" stroke=\"black\" points=\"429.5,-261 303.5,-261 303.5,-193 429.5,-193 429.5,-261\"/>\n<text text-anchor=\"middle\" x=\"366.5\" y=\"-245.8\" font-family=\"Helvetica,sans-Serif\" font-size=\"14.00\">Has_Cabin &lt;= 0.5</text>\n<text text-anchor=\"middle\" x=\"366.5\" y=\"-230.8\" font-family=\"Helvetica,sans-Serif\" font-size=\"14.00\">entropy = 0.626</text>\n<text text-anchor=\"middle\" x=\"366.5\" y=\"-215.8\" font-family=\"Helvetica,sans-Serif\" font-size=\"14.00\">samples = 517</text>\n<text text-anchor=\"middle\" x=\"366.5\" y=\"-200.8\" font-family=\"Helvetica,sans-Serif\" font-size=\"14.00\">value = [436, 81]</text>\n</g>\n<!-- 0&#45;&gt;1 -->\n<g id=\"edge1\" class=\"edge\">\n<title>0-&gt;1</title>\n<path fill=\"none\" stroke=\"black\" d=\"M444.16,-296.88C433.82,-287.71 422.48,-277.65 411.74,-268.12\"/>\n<polygon fill=\"black\" stroke=\"black\" points=\"413.85,-265.32 404.04,-261.3 409.2,-270.55 413.85,-265.32\"/>\n<text text-anchor=\"middle\" x=\"405.54\" y=\"-282.55\" font-family=\"Helvetica,sans-Serif\" font-size=\"14.00\">True</text>\n</g>\n<!-- 8 -->\n<g id=\"node9\" class=\"node\">\n<title>8</title>\n<polygon fill=\"none\" stroke=\"black\" points=\"676,-261 551,-261 551,-193 676,-193 676,-261\"/>\n<text text-anchor=\"middle\" x=\"613.5\" y=\"-245.8\" font-family=\"Helvetica,sans-Serif\" font-size=\"14.00\">Pclass &lt;= 2.5</text>\n<text text-anchor=\"middle\" x=\"613.5\" y=\"-230.8\" font-family=\"Helvetica,sans-Serif\" font-size=\"14.00\">entropy = 0.884</text>\n<text text-anchor=\"middle\" x=\"613.5\" y=\"-215.8\" font-family=\"Helvetica,sans-Serif\" font-size=\"14.00\">samples = 374</text>\n<text text-anchor=\"middle\" x=\"613.5\" y=\"-200.8\" font-family=\"Helvetica,sans-Serif\" font-size=\"14.00\">value = [113, 261]</text>\n</g>\n<!-- 0&#45;&gt;8 -->\n<g id=\"edge8\" class=\"edge\">\n<title>0-&gt;8</title>\n<path fill=\"none\" stroke=\"black\" d=\"M524.36,-296.88C536.46,-287.53 549.75,-277.26 562.29,-267.57\"/>\n<polygon fill=\"black\" stroke=\"black\" points=\"564.63,-270.18 570.41,-261.3 560.35,-264.64 564.63,-270.18\"/>\n<text text-anchor=\"middle\" x=\"567.23\" y=\"-282.4\" font-family=\"Helvetica,sans-Serif\" font-size=\"14.00\">False</text>\n</g>\n<!-- 2 -->\n<g id=\"node3\" class=\"node\">\n<title>2</title>\n<polygon fill=\"none\" stroke=\"black\" points=\"249.5,-157 123.5,-157 123.5,-89 249.5,-89 249.5,-157\"/>\n<text text-anchor=\"middle\" x=\"186.5\" y=\"-141.8\" font-family=\"Helvetica,sans-Serif\" font-size=\"14.00\">FamilySize &lt;= 3.5</text>\n<text text-anchor=\"middle\" x=\"186.5\" y=\"-126.8\" font-family=\"Helvetica,sans-Serif\" font-size=\"14.00\">entropy = 0.502</text>\n<text text-anchor=\"middle\" x=\"186.5\" y=\"-111.8\" font-family=\"Helvetica,sans-Serif\" font-size=\"14.00\">samples = 424</text>\n<text text-anchor=\"middle\" x=\"186.5\" y=\"-96.8\" font-family=\"Helvetica,sans-Serif\" font-size=\"14.00\">value = [377, 47]</text>\n</g>\n<!-- 1&#45;&gt;2 -->\n<g id=\"edge2\" class=\"edge\">\n<title>1-&gt;2</title>\n<path fill=\"none\" stroke=\"black\" d=\"M308.06,-192.88C290.84,-183.12 271.85,-172.37 254.11,-162.31\"/>\n<polygon fill=\"black\" stroke=\"black\" points=\"255.38,-159.01 244.96,-157.12 251.93,-165.1 255.38,-159.01\"/>\n</g>\n<!-- 5 -->\n<g id=\"node6\" class=\"node\">\n<title>5</title>\n<polygon fill=\"none\" stroke=\"black\" points=\"422,-157 311,-157 311,-89 422,-89 422,-157\"/>\n<text text-anchor=\"middle\" x=\"366.5\" y=\"-141.8\" font-family=\"Helvetica,sans-Serif\" font-size=\"14.00\">Fare &lt;= 0.5</text>\n<text text-anchor=\"middle\" x=\"366.5\" y=\"-126.8\" font-family=\"Helvetica,sans-Serif\" font-size=\"14.00\">entropy = 0.947</text>\n<text text-anchor=\"middle\" x=\"366.5\" y=\"-111.8\" font-family=\"Helvetica,sans-Serif\" font-size=\"14.00\">samples = 93</text>\n<text text-anchor=\"middle\" x=\"366.5\" y=\"-96.8\" font-family=\"Helvetica,sans-Serif\" font-size=\"14.00\">value = [59, 34]</text>\n</g>\n<!-- 1&#45;&gt;5 -->\n<g id=\"edge5\" class=\"edge\">\n<title>1-&gt;5</title>\n<path fill=\"none\" stroke=\"black\" d=\"M366.5,-192.88C366.5,-184.78 366.5,-175.98 366.5,-167.47\"/>\n<polygon fill=\"black\" stroke=\"black\" points=\"370,-167.3 366.5,-157.3 363,-167.3 370,-167.3\"/>\n</g>\n<!-- 3 -->\n<g id=\"node4\" class=\"node\">\n<title>3</title>\n<polygon fill=\"none\" stroke=\"black\" points=\"117,-53 0,-53 0,0 117,0 117,-53\"/>\n<text text-anchor=\"middle\" x=\"58.5\" y=\"-37.8\" font-family=\"Helvetica,sans-Serif\" font-size=\"14.00\">entropy = 0.514</text>\n<text text-anchor=\"middle\" x=\"58.5\" y=\"-22.8\" font-family=\"Helvetica,sans-Serif\" font-size=\"14.00\">samples = 410</text>\n<text text-anchor=\"middle\" x=\"58.5\" y=\"-7.8\" font-family=\"Helvetica,sans-Serif\" font-size=\"14.00\">value = [363, 47]</text>\n</g>\n<!-- 2&#45;&gt;3 -->\n<g id=\"edge3\" class=\"edge\">\n<title>2-&gt;3</title>\n<path fill=\"none\" stroke=\"black\" d=\"M141.73,-88.95C128.72,-79.34 114.54,-68.87 101.63,-59.34\"/>\n<polygon fill=\"black\" stroke=\"black\" points=\"103.48,-56.36 93.36,-53.24 99.33,-61.99 103.48,-56.36\"/>\n</g>\n<!-- 4 -->\n<g id=\"node5\" class=\"node\">\n<title>4</title>\n<polygon fill=\"none\" stroke=\"black\" points=\"237.5,-53 135.5,-53 135.5,0 237.5,0 237.5,-53\"/>\n<text text-anchor=\"middle\" x=\"186.5\" y=\"-37.8\" font-family=\"Helvetica,sans-Serif\" font-size=\"14.00\">entropy = 0.0</text>\n<text text-anchor=\"middle\" x=\"186.5\" y=\"-22.8\" font-family=\"Helvetica,sans-Serif\" font-size=\"14.00\">samples = 14</text>\n<text text-anchor=\"middle\" x=\"186.5\" y=\"-7.8\" font-family=\"Helvetica,sans-Serif\" font-size=\"14.00\">value = [14, 0]</text>\n</g>\n<!-- 2&#45;&gt;4 -->\n<g id=\"edge4\" class=\"edge\">\n<title>2-&gt;4</title>\n<path fill=\"none\" stroke=\"black\" d=\"M186.5,-88.95C186.5,-80.72 186.5,-71.85 186.5,-63.48\"/>\n<polygon fill=\"black\" stroke=\"black\" points=\"190,-63.24 186.5,-53.24 183,-63.24 190,-63.24\"/>\n</g>\n<!-- 6 -->\n<g id=\"node7\" class=\"node\">\n<title>6</title>\n<polygon fill=\"none\" stroke=\"black\" points=\"351.5,-53 255.5,-53 255.5,0 351.5,0 351.5,-53\"/>\n<text text-anchor=\"middle\" x=\"303.5\" y=\"-37.8\" font-family=\"Helvetica,sans-Serif\" font-size=\"14.00\">entropy = 0.0</text>\n<text text-anchor=\"middle\" x=\"303.5\" y=\"-22.8\" font-family=\"Helvetica,sans-Serif\" font-size=\"14.00\">samples = 8</text>\n<text text-anchor=\"middle\" x=\"303.5\" y=\"-7.8\" font-family=\"Helvetica,sans-Serif\" font-size=\"14.00\">value = [8, 0]</text>\n</g>\n<!-- 5&#45;&gt;6 -->\n<g id=\"edge6\" class=\"edge\">\n<title>5-&gt;6</title>\n<path fill=\"none\" stroke=\"black\" d=\"M344.47,-88.95C338.61,-80.17 332.28,-70.66 326.38,-61.82\"/>\n<polygon fill=\"black\" stroke=\"black\" points=\"329.12,-59.62 320.66,-53.24 323.29,-63.5 329.12,-59.62\"/>\n</g>\n<!-- 7 -->\n<g id=\"node8\" class=\"node\">\n<title>7</title>\n<polygon fill=\"none\" stroke=\"black\" points=\"481,-53 370,-53 370,0 481,0 481,-53\"/>\n<text text-anchor=\"middle\" x=\"425.5\" y=\"-37.8\" font-family=\"Helvetica,sans-Serif\" font-size=\"14.00\">entropy = 0.971</text>\n<text text-anchor=\"middle\" x=\"425.5\" y=\"-22.8\" font-family=\"Helvetica,sans-Serif\" font-size=\"14.00\">samples = 85</text>\n<text text-anchor=\"middle\" x=\"425.5\" y=\"-7.8\" font-family=\"Helvetica,sans-Serif\" font-size=\"14.00\">value = [51, 34]</text>\n</g>\n<!-- 5&#45;&gt;7 -->\n<g id=\"edge7\" class=\"edge\">\n<title>5-&gt;7</title>\n<path fill=\"none\" stroke=\"black\" d=\"M387.14,-88.95C392.62,-80.17 398.55,-70.66 404.08,-61.82\"/>\n<polygon fill=\"black\" stroke=\"black\" points=\"407.1,-63.57 409.43,-53.24 401.17,-59.87 407.1,-63.57\"/>\n</g>\n<!-- 9 -->\n<g id=\"node10\" class=\"node\">\n<title>9</title>\n<polygon fill=\"none\" stroke=\"black\" points=\"672,-157 555,-157 555,-89 672,-89 672,-157\"/>\n<text text-anchor=\"middle\" x=\"613.5\" y=\"-141.8\" font-family=\"Helvetica,sans-Serif\" font-size=\"14.00\">Title &lt;= 4.5</text>\n<text text-anchor=\"middle\" x=\"613.5\" y=\"-126.8\" font-family=\"Helvetica,sans-Serif\" font-size=\"14.00\">entropy = 0.526</text>\n<text text-anchor=\"middle\" x=\"613.5\" y=\"-111.8\" font-family=\"Helvetica,sans-Serif\" font-size=\"14.00\">samples = 202</text>\n<text text-anchor=\"middle\" x=\"613.5\" y=\"-96.8\" font-family=\"Helvetica,sans-Serif\" font-size=\"14.00\">value = [24, 178]</text>\n</g>\n<!-- 8&#45;&gt;9 -->\n<g id=\"edge9\" class=\"edge\">\n<title>8-&gt;9</title>\n<path fill=\"none\" stroke=\"black\" d=\"M613.5,-192.88C613.5,-184.78 613.5,-175.98 613.5,-167.47\"/>\n<polygon fill=\"black\" stroke=\"black\" points=\"617,-167.3 613.5,-157.3 610,-167.3 617,-167.3\"/>\n</g>\n<!-- 12 -->\n<g id=\"node13\" class=\"node\">\n<title>12</title>\n<polygon fill=\"none\" stroke=\"black\" points=\"875.5,-157 749.5,-157 749.5,-89 875.5,-89 875.5,-157\"/>\n<text text-anchor=\"middle\" x=\"812.5\" y=\"-141.8\" font-family=\"Helvetica,sans-Serif\" font-size=\"14.00\">FamilySize &lt;= 4.5</text>\n<text text-anchor=\"middle\" x=\"812.5\" y=\"-126.8\" font-family=\"Helvetica,sans-Serif\" font-size=\"14.00\">entropy = 0.999</text>\n<text text-anchor=\"middle\" x=\"812.5\" y=\"-111.8\" font-family=\"Helvetica,sans-Serif\" font-size=\"14.00\">samples = 172</text>\n<text text-anchor=\"middle\" x=\"812.5\" y=\"-96.8\" font-family=\"Helvetica,sans-Serif\" font-size=\"14.00\">value = [89, 83]</text>\n</g>\n<!-- 8&#45;&gt;12 -->\n<g id=\"edge12\" class=\"edge\">\n<title>8-&gt;12</title>\n<path fill=\"none\" stroke=\"black\" d=\"M676.19,-193.87C696.63,-183.39 719.47,-171.68 740.54,-160.89\"/>\n<polygon fill=\"black\" stroke=\"black\" points=\"742.14,-164 749.44,-156.32 738.94,-157.77 742.14,-164\"/>\n</g>\n<!-- 10 -->\n<g id=\"node11\" class=\"node\">\n<title>10</title>\n<polygon fill=\"none\" stroke=\"black\" points=\"610,-53 499,-53 499,0 610,0 610,-53\"/>\n<text text-anchor=\"middle\" x=\"554.5\" y=\"-37.8\" font-family=\"Helvetica,sans-Serif\" font-size=\"14.00\">entropy = 0.288</text>\n<text text-anchor=\"middle\" x=\"554.5\" y=\"-22.8\" font-family=\"Helvetica,sans-Serif\" font-size=\"14.00\">samples = 179</text>\n<text text-anchor=\"middle\" x=\"554.5\" y=\"-7.8\" font-family=\"Helvetica,sans-Serif\" font-size=\"14.00\">value = [9, 170]</text>\n</g>\n<!-- 9&#45;&gt;10 -->\n<g id=\"edge10\" class=\"edge\">\n<title>9-&gt;10</title>\n<path fill=\"none\" stroke=\"black\" d=\"M592.86,-88.95C587.38,-80.17 581.45,-70.66 575.92,-61.82\"/>\n<polygon fill=\"black\" stroke=\"black\" points=\"578.83,-59.87 570.57,-53.24 572.9,-63.57 578.83,-59.87\"/>\n</g>\n<!-- 11 -->\n<g id=\"node12\" class=\"node\">\n<title>11</title>\n<polygon fill=\"none\" stroke=\"black\" points=\"739,-53 628,-53 628,0 739,0 739,-53\"/>\n<text text-anchor=\"middle\" x=\"683.5\" y=\"-37.8\" font-family=\"Helvetica,sans-Serif\" font-size=\"14.00\">entropy = 0.932</text>\n<text text-anchor=\"middle\" x=\"683.5\" y=\"-22.8\" font-family=\"Helvetica,sans-Serif\" font-size=\"14.00\">samples = 23</text>\n<text text-anchor=\"middle\" x=\"683.5\" y=\"-7.8\" font-family=\"Helvetica,sans-Serif\" font-size=\"14.00\">value = [15, 8]</text>\n</g>\n<!-- 9&#45;&gt;11 -->\n<g id=\"edge11\" class=\"edge\">\n<title>9-&gt;11</title>\n<path fill=\"none\" stroke=\"black\" d=\"M637.98,-88.95C644.56,-80.07 651.67,-70.46 658.29,-61.54\"/>\n<polygon fill=\"black\" stroke=\"black\" points=\"661.3,-63.36 664.44,-53.24 655.67,-59.19 661.3,-63.36\"/>\n</g>\n<!-- 13 -->\n<g id=\"node14\" class=\"node\">\n<title>13</title>\n<polygon fill=\"none\" stroke=\"black\" points=\"868,-53 757,-53 757,0 868,0 868,-53\"/>\n<text text-anchor=\"middle\" x=\"812.5\" y=\"-37.8\" font-family=\"Helvetica,sans-Serif\" font-size=\"14.00\">entropy = 0.957</text>\n<text text-anchor=\"middle\" x=\"812.5\" y=\"-22.8\" font-family=\"Helvetica,sans-Serif\" font-size=\"14.00\">samples = 127</text>\n<text text-anchor=\"middle\" x=\"812.5\" y=\"-7.8\" font-family=\"Helvetica,sans-Serif\" font-size=\"14.00\">value = [48, 79]</text>\n</g>\n<!-- 12&#45;&gt;13 -->\n<g id=\"edge13\" class=\"edge\">\n<title>12-&gt;13</title>\n<path fill=\"none\" stroke=\"black\" d=\"M812.5,-88.95C812.5,-80.72 812.5,-71.85 812.5,-63.48\"/>\n<polygon fill=\"black\" stroke=\"black\" points=\"816,-63.24 812.5,-53.24 809,-63.24 816,-63.24\"/>\n</g>\n<!-- 14 -->\n<g id=\"node15\" class=\"node\">\n<title>14</title>\n<polygon fill=\"none\" stroke=\"black\" points=\"997,-53 886,-53 886,0 997,0 997,-53\"/>\n<text text-anchor=\"middle\" x=\"941.5\" y=\"-37.8\" font-family=\"Helvetica,sans-Serif\" font-size=\"14.00\">entropy = 0.433</text>\n<text text-anchor=\"middle\" x=\"941.5\" y=\"-22.8\" font-family=\"Helvetica,sans-Serif\" font-size=\"14.00\">samples = 45</text>\n<text text-anchor=\"middle\" x=\"941.5\" y=\"-7.8\" font-family=\"Helvetica,sans-Serif\" font-size=\"14.00\">value = [41, 4]</text>\n</g>\n<!-- 12&#45;&gt;14 -->\n<g id=\"edge14\" class=\"edge\">\n<title>12-&gt;14</title>\n<path fill=\"none\" stroke=\"black\" d=\"M857.62,-88.95C870.73,-79.34 885.02,-68.87 898.03,-59.34\"/>\n<polygon fill=\"black\" stroke=\"black\" points=\"900.37,-61.97 906.37,-53.24 896.23,-56.32 900.37,-61.97\"/>\n</g>\n</g>\n</svg>"
          },
          "metadata": {},
          "execution_count": 20
        }
      ],
      "source": [
        "from graphviz import Source\n",
        "from IPython.display import SVG\n",
        "\n",
        "graph = Source( tree.export_graphviz(decision_tree, out_file=None, feature_names=X_train.columns))\n",
        "SVG(graph.pipe(format='svg'))"
      ]
    },
    {
      "cell_type": "code",
      "execution_count": null,
      "metadata": {
        "colab": {
          "base_uri": "https://localhost:8080/"
        },
        "id": "djLwfPIgchpt",
        "outputId": "5b46afdc-2243-485b-ecfd-f9216a13fcf0"
      },
      "outputs": [
        {
          "output_type": "stream",
          "name": "stdout",
          "text": [
            "Criterion: gini, Min_leaf: 1 \n",
            "\n",
            "\t Max depth: 1 \t CV mean score: 0.7822846441947565\n",
            "\t Max depth: 2 \t CV mean score: 0.7912983770287141\n",
            "\t Max depth: 3 \t CV mean score: 0.8305243445692885\n",
            "\t Max depth: 4 \t CV mean score: 0.8125468164794007\n",
            "\t Max depth: 5 \t CV mean score: 0.8125717852684143\n",
            "\t Max depth: 6 \t CV mean score: 0.8059051186017477\n",
            "\t Max depth: 7 \t CV mean score: 0.8148564294631709\n",
            "\t Max depth: 8 \t CV mean score: 0.8115230961298379\n",
            "\t Max depth: 9 \t CV mean score: 0.8249687890137329\n",
            "\t Max depth: 10 \t CV mean score: 0.8193882646691636\n",
            "Criterion: gini, Min_leaf: 2 \n",
            "\n",
            "\t Max depth: 1 \t CV mean score: 0.7822846441947565\n",
            "\t Max depth: 2 \t CV mean score: 0.7912983770287141\n",
            "\t Max depth: 3 \t CV mean score: 0.8305243445692885\n",
            "\t Max depth: 4 \t CV mean score: 0.8125468164794007\n",
            "\t Max depth: 5 \t CV mean score: 0.8148189762796504\n",
            "\t Max depth: 6 \t CV mean score: 0.8126342072409489\n",
            "\t Max depth: 7 \t CV mean score: 0.8204744069912608\n",
            "\t Max depth: 8 \t CV mean score: 0.8171285892634208\n",
            "\t Max depth: 9 \t CV mean score: 0.8249563046192261\n",
            "\t Max depth: 10 \t CV mean score: 0.8182397003745319\n",
            "Criterion: gini, Min_leaf: 3 \n",
            "\n",
            "\t Max depth: 1 \t CV mean score: 0.7822846441947565\n",
            "\t Max depth: 2 \t CV mean score: 0.7912983770287141\n",
            "\t Max depth: 3 \t CV mean score: 0.8305243445692885\n",
            "\t Max depth: 4 \t CV mean score: 0.8125468164794007\n",
            "\t Max depth: 5 \t CV mean score: 0.8148189762796504\n",
            "\t Max depth: 6 \t CV mean score: 0.804756554307116\n",
            "\t Max depth: 7 \t CV mean score: 0.8114731585518102\n",
            "\t Max depth: 8 \t CV mean score: 0.80812734082397\n",
            "\t Max depth: 9 \t CV mean score: 0.8159675405742821\n",
            "\t Max depth: 10 \t CV mean score: 0.8159675405742821\n",
            "Criterion: gini, Min_leaf: 4 \n",
            "\n",
            "\t Max depth: 1 \t CV mean score: 0.7822846441947565\n",
            "\t Max depth: 2 \t CV mean score: 0.7912983770287141\n",
            "\t Max depth: 3 \t CV mean score: 0.8305243445692885\n",
            "\t Max depth: 4 \t CV mean score: 0.8147940074906368\n",
            "\t Max depth: 5 \t CV mean score: 0.8204369538077405\n",
            "\t Max depth: 6 \t CV mean score: 0.8137453183520599\n",
            "\t Max depth: 7 \t CV mean score: 0.8171161048689137\n",
            "\t Max depth: 8 \t CV mean score: 0.8148813982521848\n",
            "\t Max depth: 9 \t CV mean score: 0.817103620474407\n",
            "\t Max depth: 10 \t CV mean score: 0.8182272159800249\n",
            "Criterion: gini, Min_leaf: 5 \n",
            "\n",
            "\t Max depth: 1 \t CV mean score: 0.7822846441947565\n",
            "\t Max depth: 2 \t CV mean score: 0.7912983770287141\n",
            "\t Max depth: 3 \t CV mean score: 0.8260299625468164\n",
            "\t Max depth: 4 \t CV mean score: 0.8102996254681647\n",
            "\t Max depth: 5 \t CV mean score: 0.8148189762796504\n",
            "\t Max depth: 6 \t CV mean score: 0.8148689138576779\n",
            "\t Max depth: 7 \t CV mean score: 0.8159925093632958\n",
            "\t Max depth: 8 \t CV mean score: 0.8103870162297129\n",
            "\t Max depth: 9 \t CV mean score: 0.8103870162297129\n",
            "\t Max depth: 10 \t CV mean score: 0.8092634207240949\n",
            "Criterion: gini, Min_leaf: 6 \n",
            "\n",
            "\t Max depth: 1 \t CV mean score: 0.7822846441947565\n",
            "\t Max depth: 2 \t CV mean score: 0.7912983770287141\n",
            "\t Max depth: 3 \t CV mean score: 0.8249063670411985\n",
            "\t Max depth: 4 \t CV mean score: 0.8036204744069912\n",
            "\t Max depth: 5 \t CV mean score: 0.8114856429463171\n",
            "\t Max depth: 6 \t CV mean score: 0.813732833957553\n",
            "\t Max depth: 7 \t CV mean score: 0.8126342072409487\n",
            "\t Max depth: 8 \t CV mean score: 0.8103870162297128\n",
            "\t Max depth: 9 \t CV mean score: 0.8115106117353308\n",
            "\t Max depth: 10 \t CV mean score: 0.8115106117353308\n",
            "Criterion: gini, Min_leaf: 7 \n",
            "\n",
            "\t Max depth: 1 \t CV mean score: 0.7822846441947565\n",
            "\t Max depth: 2 \t CV mean score: 0.7912983770287141\n",
            "\t Max depth: 3 \t CV mean score: 0.8249063670411985\n",
            "\t Max depth: 4 \t CV mean score: 0.8024968789013732\n",
            "\t Max depth: 5 \t CV mean score: 0.8114856429463171\n",
            "\t Max depth: 6 \t CV mean score: 0.8125967540574282\n",
            "\t Max depth: 7 \t CV mean score: 0.8137203495630461\n",
            "\t Max depth: 8 \t CV mean score: 0.8125967540574282\n",
            "\t Max depth: 9 \t CV mean score: 0.8148439450686642\n",
            "\t Max depth: 10 \t CV mean score: 0.81147315855181\n",
            "Criterion: gini, Min_leaf: 8 \n",
            "\n",
            "\t Max depth: 1 \t CV mean score: 0.7822846441947565\n",
            "\t Max depth: 2 \t CV mean score: 0.7912983770287141\n",
            "\t Max depth: 3 \t CV mean score: 0.8249063670411985\n",
            "\t Max depth: 4 \t CV mean score: 0.8036204744069911\n",
            "\t Max depth: 5 \t CV mean score: 0.8114856429463172\n",
            "\t Max depth: 6 \t CV mean score: 0.8125967540574284\n",
            "\t Max depth: 7 \t CV mean score: 0.8125967540574282\n",
            "\t Max depth: 8 \t CV mean score: 0.8148439450686642\n",
            "\t Max depth: 9 \t CV mean score: 0.8148439450686642\n",
            "\t Max depth: 10 \t CV mean score: 0.8148439450686642\n",
            "Criterion: gini, Min_leaf: 9 \n",
            "\n",
            "\t Max depth: 1 \t CV mean score: 0.7822846441947565\n",
            "\t Max depth: 2 \t CV mean score: 0.7912983770287141\n",
            "\t Max depth: 3 \t CV mean score: 0.8249063670411985\n",
            "\t Max depth: 4 \t CV mean score: 0.8058676654182271\n",
            "\t Max depth: 5 \t CV mean score: 0.8047440699126094\n",
            "\t Max depth: 6 \t CV mean score: 0.8081023720349563\n",
            "\t Max depth: 7 \t CV mean score: 0.8081023720349563\n",
            "\t Max depth: 8 \t CV mean score: 0.8103495630461923\n",
            "\t Max depth: 9 \t CV mean score: 0.8103495630461923\n",
            "\t Max depth: 10 \t CV mean score: 0.8103495630461923\n",
            "Criterion: gini, Min_leaf: 10 \n",
            "\n",
            "\t Max depth: 1 \t CV mean score: 0.7822846441947565\n",
            "\t Max depth: 2 \t CV mean score: 0.7912983770287141\n",
            "\t Max depth: 3 \t CV mean score: 0.8249063670411985\n",
            "\t Max depth: 4 \t CV mean score: 0.8114856429463171\n",
            "\t Max depth: 5 \t CV mean score: 0.8047440699126092\n",
            "\t Max depth: 6 \t CV mean score: 0.8092259675405742\n",
            "\t Max depth: 7 \t CV mean score: 0.8069787765293384\n",
            "\t Max depth: 8 \t CV mean score: 0.8092259675405742\n",
            "\t Max depth: 9 \t CV mean score: 0.8092259675405742\n",
            "\t Max depth: 10 \t CV mean score: 0.8092259675405742\n",
            "Criterion: entropy, Min_leaf: 1 \n",
            "\n",
            "\t Max depth: 1 \t CV mean score: 0.7822846441947565\n",
            "\t Max depth: 2 \t CV mean score: 0.7890511860174781\n",
            "\t Max depth: 3 \t CV mean score: 0.8316479400749064\n",
            "\t Max depth: 4 \t CV mean score: 0.8215355805243446\n",
            "\t Max depth: 5 \t CV mean score: 0.8249188514357053\n",
            "\t Max depth: 6 \t CV mean score: 0.8204744069912611\n",
            "\t Max depth: 7 \t CV mean score: 0.8081023720349563\n",
            "\t Max depth: 8 \t CV mean score: 0.809250936329588\n",
            "\t Max depth: 9 \t CV mean score: 0.8204494382022471\n",
            "\t Max depth: 10 \t CV mean score: 0.8137578027465668\n",
            "Criterion: entropy, Min_leaf: 2 \n",
            "\n",
            "\t Max depth: 1 \t CV mean score: 0.7822846441947565\n",
            "\t Max depth: 2 \t CV mean score: 0.7890511860174781\n",
            "\t Max depth: 3 \t CV mean score: 0.8316479400749064\n",
            "\t Max depth: 4 \t CV mean score: 0.8215355805243446\n",
            "\t Max depth: 5 \t CV mean score: 0.8260424469413234\n",
            "\t Max depth: 6 \t CV mean score: 0.8204744069912608\n",
            "\t Max depth: 7 \t CV mean score: 0.82270911360799\n",
            "\t Max depth: 8 \t CV mean score: 0.8137453183520599\n",
            "\t Max depth: 9 \t CV mean score: 0.8294631710362047\n",
            "\t Max depth: 10 \t CV mean score: 0.8227215980024969\n",
            "Criterion: entropy, Min_leaf: 3 \n",
            "\n",
            "\t Max depth: 1 \t CV mean score: 0.7822846441947565\n",
            "\t Max depth: 2 \t CV mean score: 0.7890511860174781\n",
            "\t Max depth: 3 \t CV mean score: 0.8316479400749064\n",
            "\t Max depth: 4 \t CV mean score: 0.8215355805243446\n",
            "\t Max depth: 5 \t CV mean score: 0.8237952559300874\n",
            "\t Max depth: 6 \t CV mean score: 0.8159675405742821\n",
            "\t Max depth: 7 \t CV mean score: 0.8170786516853932\n",
            "\t Max depth: 8 \t CV mean score: 0.8148564294631709\n",
            "\t Max depth: 9 \t CV mean score: 0.8204744069912608\n",
            "\t Max depth: 10 \t CV mean score: 0.8204868913857677\n",
            "Criterion: entropy, Min_leaf: 4 \n",
            "\n",
            "\t Max depth: 1 \t CV mean score: 0.7822846441947565\n",
            "\t Max depth: 2 \t CV mean score: 0.7890511860174781\n",
            "\t Max depth: 3 \t CV mean score: 0.8316479400749064\n",
            "\t Max depth: 4 \t CV mean score: 0.8215355805243446\n",
            "\t Max depth: 5 \t CV mean score: 0.8271660424469414\n",
            "\t Max depth: 6 \t CV mean score: 0.818214731585518\n",
            "\t Max depth: 7 \t CV mean score: 0.8159800249687891\n",
            "\t Max depth: 8 \t CV mean score: 0.8159925093632958\n",
            "\t Max depth: 9 \t CV mean score: 0.8171161048689137\n",
            "\t Max depth: 10 \t CV mean score: 0.8171285892634208\n",
            "Criterion: entropy, Min_leaf: 5 \n",
            "\n",
            "\t Max depth: 1 \t CV mean score: 0.7822846441947565\n",
            "\t Max depth: 2 \t CV mean score: 0.7890511860174781\n",
            "\t Max depth: 3 \t CV mean score: 0.8316479400749064\n",
            "\t Max depth: 4 \t CV mean score: 0.8215355805243446\n",
            "\t Max depth: 5 \t CV mean score: 0.8271660424469414\n",
            "\t Max depth: 6 \t CV mean score: 0.82270911360799\n",
            "\t Max depth: 7 \t CV mean score: 0.8226966292134831\n",
            "\t Max depth: 8 \t CV mean score: 0.818214731585518\n",
            "\t Max depth: 9 \t CV mean score: 0.8159675405742822\n",
            "\t Max depth: 10 \t CV mean score: 0.818214731585518\n",
            "Criterion: entropy, Min_leaf: 6 \n",
            "\n",
            "\t Max depth: 1 \t CV mean score: 0.7822846441947565\n",
            "\t Max depth: 2 \t CV mean score: 0.7890511860174781\n",
            "\t Max depth: 3 \t CV mean score: 0.8316479400749064\n",
            "\t Max depth: 4 \t CV mean score: 0.8159800249687891\n",
            "\t Max depth: 5 \t CV mean score: 0.8249563046192259\n",
            "\t Max depth: 6 \t CV mean score: 0.8204494382022472\n",
            "\t Max depth: 7 \t CV mean score: 0.8193383270911362\n",
            "\t Max depth: 8 \t CV mean score: 0.8170911360799001\n",
            "\t Max depth: 9 \t CV mean score: 0.8148439450686642\n",
            "\t Max depth: 10 \t CV mean score: 0.8170911360799\n",
            "Criterion: entropy, Min_leaf: 7 \n",
            "\n",
            "\t Max depth: 1 \t CV mean score: 0.7822846441947565\n",
            "\t Max depth: 2 \t CV mean score: 0.7890511860174781\n",
            "\t Max depth: 3 \t CV mean score: 0.8316479400749064\n",
            "\t Max depth: 4 \t CV mean score: 0.8148564294631709\n",
            "\t Max depth: 5 \t CV mean score: 0.823832709113608\n",
            "\t Max depth: 6 \t CV mean score: 0.8215730337078652\n",
            "\t Max depth: 7 \t CV mean score: 0.819338327091136\n",
            "\t Max depth: 8 \t CV mean score: 0.8204619225967541\n",
            "\t Max depth: 9 \t CV mean score: 0.8204619225967541\n",
            "\t Max depth: 10 \t CV mean score: 0.8193383270911362\n",
            "Criterion: entropy, Min_leaf: 8 \n",
            "\n",
            "\t Max depth: 1 \t CV mean score: 0.7822846441947565\n",
            "\t Max depth: 2 \t CV mean score: 0.7890511860174781\n",
            "\t Max depth: 3 \t CV mean score: 0.8316479400749064\n",
            "\t Max depth: 4 \t CV mean score: 0.8159800249687889\n",
            "\t Max depth: 5 \t CV mean score: 0.823832709113608\n",
            "\t Max depth: 6 \t CV mean score: 0.8204494382022472\n",
            "\t Max depth: 7 \t CV mean score: 0.8159675405742821\n",
            "\t Max depth: 8 \t CV mean score: 0.8159675405742822\n",
            "\t Max depth: 9 \t CV mean score: 0.8159675405742822\n",
            "\t Max depth: 10 \t CV mean score: 0.8148439450686642\n",
            "Criterion: entropy, Min_leaf: 9 \n",
            "\n",
            "\t Max depth: 1 \t CV mean score: 0.7822846441947565\n",
            "\t Max depth: 2 \t CV mean score: 0.7890511860174781\n",
            "\t Max depth: 3 \t CV mean score: 0.8316479400749064\n",
            "\t Max depth: 4 \t CV mean score: 0.8114856429463171\n",
            "\t Max depth: 5 \t CV mean score: 0.8125967540574282\n",
            "\t Max depth: 6 \t CV mean score: 0.8114606741573033\n",
            "\t Max depth: 7 \t CV mean score: 0.8092259675405742\n",
            "\t Max depth: 8 \t CV mean score: 0.8125967540574282\n",
            "\t Max depth: 9 \t CV mean score: 0.8114731585518102\n",
            "\t Max depth: 10 \t CV mean score: 0.8114731585518102\n",
            "Criterion: entropy, Min_leaf: 10 \n",
            "\n",
            "\t Max depth: 1 \t CV mean score: 0.7822846441947565\n",
            "\t Max depth: 2 \t CV mean score: 0.7890511860174781\n",
            "\t Max depth: 3 \t CV mean score: 0.8316479400749064\n",
            "\t Max depth: 4 \t CV mean score: 0.817103620474407\n",
            "\t Max depth: 5 \t CV mean score: 0.817103620474407\n",
            "\t Max depth: 6 \t CV mean score: 0.8159675405742821\n",
            "\t Max depth: 7 \t CV mean score: 0.8125967540574282\n",
            "\t Max depth: 8 \t CV mean score: 0.8137203495630461\n",
            "\t Max depth: 9 \t CV mean score: 0.8137203495630461\n",
            "\t Max depth: 10 \t CV mean score: 0.8137203495630461\n"
          ]
        }
      ],
      "source": [
        "dephts = range(1, 11)\n",
        "\n",
        "for criterion in criterions:\n",
        "    for min_sample_leaf in range(1, 11):\n",
        "        print(f'Criterion: {criterion}, Min_leaf: {min_sample_leaf} \\n')\n",
        "        for max_depth in dephts:\n",
        "            decision_tree = DecisionTreeClassifier(max_depth=max_depth, min_samples_leaf=min_sample_leaf, criterion=criterion)\n",
        "            cv_scores = cross_val_score(decision_tree, X_train, y_train, cv=10, scoring='accuracy')\n",
        "            print(f\"\\t Max depth: {max_depth} \\t CV mean score: {cv_scores.mean()}\")"
      ]
    },
    {
      "cell_type": "markdown",
      "source": [
        "**Maksymalna glębokość drzewa wpływa na dokładność modelu, ponieważ określą poziom do którego drzewo będzie się \"budowało\" i podejmowało decyzje. Moeżemy zauważyć, że od pewnej głębokości drzewa (tj. 3), dokładność modelu zaczyna spadać ze względu na przeuczanie modelu.**\n",
        "\n",
        "**Min Sample leaf określa minimalną liczbę próbek, dla której będzie przebiegal proces decyzyjny w ramach jednego liścia. Parametr ten wpływa na dokładność modelu ale w nieco mniejszym stopniu niż maksymalna głębokość.**\n",
        "\n",
        "**Kryterium giniego zdaję się działać nieco szybciej niż kryterium entropi. Jednak warto zauważyć, że entropia daje nieco lepsze wyniki.**"
      ],
      "metadata": {
        "id": "-5l29DjpFYdM"
      }
    },
    {
      "cell_type": "code",
      "execution_count": null,
      "metadata": {
        "id": "kqAaanBgh6T9"
      },
      "outputs": [],
      "source": [
        "from sklearn.model_selection import train_test_split\n",
        "\n",
        "X_train, X_test, y_train, y_test = train_test_split(X_train, y_train, test_size=0.25, random_state=42)"
      ]
    },
    {
      "cell_type": "code",
      "execution_count": null,
      "metadata": {
        "colab": {
          "base_uri": "https://localhost:8080/",
          "height": 74
        },
        "id": "Phi8vhybkVP3",
        "outputId": "dd2e8a0b-77a0-4fdb-8eec-34bce0748584"
      },
      "outputs": [
        {
          "output_type": "execute_result",
          "data": {
            "text/plain": [
              "DecisionTreeClassifier(criterion='entropy', max_depth=3)"
            ],
            "text/html": [
              "<style>#sk-container-id-2 {color: black;background-color: white;}#sk-container-id-2 pre{padding: 0;}#sk-container-id-2 div.sk-toggleable {background-color: white;}#sk-container-id-2 label.sk-toggleable__label {cursor: pointer;display: block;width: 100%;margin-bottom: 0;padding: 0.3em;box-sizing: border-box;text-align: center;}#sk-container-id-2 label.sk-toggleable__label-arrow:before {content: \"▸\";float: left;margin-right: 0.25em;color: #696969;}#sk-container-id-2 label.sk-toggleable__label-arrow:hover:before {color: black;}#sk-container-id-2 div.sk-estimator:hover label.sk-toggleable__label-arrow:before {color: black;}#sk-container-id-2 div.sk-toggleable__content {max-height: 0;max-width: 0;overflow: hidden;text-align: left;background-color: #f0f8ff;}#sk-container-id-2 div.sk-toggleable__content pre {margin: 0.2em;color: black;border-radius: 0.25em;background-color: #f0f8ff;}#sk-container-id-2 input.sk-toggleable__control:checked~div.sk-toggleable__content {max-height: 200px;max-width: 100%;overflow: auto;}#sk-container-id-2 input.sk-toggleable__control:checked~label.sk-toggleable__label-arrow:before {content: \"▾\";}#sk-container-id-2 div.sk-estimator input.sk-toggleable__control:checked~label.sk-toggleable__label {background-color: #d4ebff;}#sk-container-id-2 div.sk-label input.sk-toggleable__control:checked~label.sk-toggleable__label {background-color: #d4ebff;}#sk-container-id-2 input.sk-hidden--visually {border: 0;clip: rect(1px 1px 1px 1px);clip: rect(1px, 1px, 1px, 1px);height: 1px;margin: -1px;overflow: hidden;padding: 0;position: absolute;width: 1px;}#sk-container-id-2 div.sk-estimator {font-family: monospace;background-color: #f0f8ff;border: 1px dotted black;border-radius: 0.25em;box-sizing: border-box;margin-bottom: 0.5em;}#sk-container-id-2 div.sk-estimator:hover {background-color: #d4ebff;}#sk-container-id-2 div.sk-parallel-item::after {content: \"\";width: 100%;border-bottom: 1px solid gray;flex-grow: 1;}#sk-container-id-2 div.sk-label:hover label.sk-toggleable__label {background-color: #d4ebff;}#sk-container-id-2 div.sk-serial::before {content: \"\";position: absolute;border-left: 1px solid gray;box-sizing: border-box;top: 0;bottom: 0;left: 50%;z-index: 0;}#sk-container-id-2 div.sk-serial {display: flex;flex-direction: column;align-items: center;background-color: white;padding-right: 0.2em;padding-left: 0.2em;position: relative;}#sk-container-id-2 div.sk-item {position: relative;z-index: 1;}#sk-container-id-2 div.sk-parallel {display: flex;align-items: stretch;justify-content: center;background-color: white;position: relative;}#sk-container-id-2 div.sk-item::before, #sk-container-id-2 div.sk-parallel-item::before {content: \"\";position: absolute;border-left: 1px solid gray;box-sizing: border-box;top: 0;bottom: 0;left: 50%;z-index: -1;}#sk-container-id-2 div.sk-parallel-item {display: flex;flex-direction: column;z-index: 1;position: relative;background-color: white;}#sk-container-id-2 div.sk-parallel-item:first-child::after {align-self: flex-end;width: 50%;}#sk-container-id-2 div.sk-parallel-item:last-child::after {align-self: flex-start;width: 50%;}#sk-container-id-2 div.sk-parallel-item:only-child::after {width: 0;}#sk-container-id-2 div.sk-dashed-wrapped {border: 1px dashed gray;margin: 0 0.4em 0.5em 0.4em;box-sizing: border-box;padding-bottom: 0.4em;background-color: white;}#sk-container-id-2 div.sk-label label {font-family: monospace;font-weight: bold;display: inline-block;line-height: 1.2em;}#sk-container-id-2 div.sk-label-container {text-align: center;}#sk-container-id-2 div.sk-container {/* jupyter's `normalize.less` sets `[hidden] { display: none; }` but bootstrap.min.css set `[hidden] { display: none !important; }` so we also need the `!important` here to be able to override the default hidden behavior on the sphinx rendered scikit-learn.org. See: https://github.com/scikit-learn/scikit-learn/issues/21755 */display: inline-block !important;position: relative;}#sk-container-id-2 div.sk-text-repr-fallback {display: none;}</style><div id=\"sk-container-id-2\" class=\"sk-top-container\"><div class=\"sk-text-repr-fallback\"><pre>DecisionTreeClassifier(criterion=&#x27;entropy&#x27;, max_depth=3)</pre><b>In a Jupyter environment, please rerun this cell to show the HTML representation or trust the notebook. <br />On GitHub, the HTML representation is unable to render, please try loading this page with nbviewer.org.</b></div><div class=\"sk-container\" hidden><div class=\"sk-item\"><div class=\"sk-estimator sk-toggleable\"><input class=\"sk-toggleable__control sk-hidden--visually\" id=\"sk-estimator-id-2\" type=\"checkbox\" checked><label for=\"sk-estimator-id-2\" class=\"sk-toggleable__label sk-toggleable__label-arrow\">DecisionTreeClassifier</label><div class=\"sk-toggleable__content\"><pre>DecisionTreeClassifier(criterion=&#x27;entropy&#x27;, max_depth=3)</pre></div></div></div></div></div>"
            ]
          },
          "metadata": {},
          "execution_count": 23
        }
      ],
      "source": [
        "decision_tree = tree.DecisionTreeClassifier(max_depth=best_depht_entropy, criterion='entropy')\n",
        "decision_tree.fit(X_train, y_train)"
      ]
    },
    {
      "cell_type": "code",
      "execution_count": null,
      "metadata": {
        "id": "N5IkJMwMmBcx"
      },
      "outputs": [],
      "source": [
        "y_pred = decision_tree.predict(X_test)"
      ]
    },
    {
      "cell_type": "code",
      "execution_count": null,
      "metadata": {
        "colab": {
          "base_uri": "https://localhost:8080/",
          "height": 449
        },
        "id": "_wa5q0ZPmIAc",
        "outputId": "f78e30ef-f6dd-474c-b27a-a73d01030f99"
      },
      "outputs": [
        {
          "output_type": "display_data",
          "data": {
            "text/plain": [
              "<Figure size 640x480 with 2 Axes>"
            ],
            "image/png": "[encoded data removed]"
          },
          "metadata": {}
        }
      ],
      "source": [
        "import matplotlib.pyplot as plt\n",
        "from sklearn.metrics._plot.confusion_matrix import ConfusionMatrixDisplay\n",
        "from sklearn.metrics import confusion_matrix\n",
        "\n",
        "cm = confusion_matrix(y_test, y_pred, labels=decision_tree.classes_)\n",
        "disp = ConfusionMatrixDisplay(confusion_matrix=cm, display_labels=decision_tree.classes_)\n",
        "disp.plot()\n",
        "plt.show()"
      ]
    },
    {
      "cell_type": "markdown",
      "source": [
        "**119 osób nie przeżyło i model się nie mylił.**\n",
        "\n",
        "**23 osoby przeżyły ale model je uśmiercił.**\n",
        "\n",
        "**15 osób nie przeżyło ale model uznał je za żywe ☹.**\n",
        "\n",
        "**66 osób nie przeżyło i model się nie mylił.**"
      ],
      "metadata": {
        "id": "aFRhM6UGElpb"
      }
    },
    {
      "cell_type": "code",
      "execution_count": null,
      "metadata": {
        "colab": {
          "base_uri": "https://localhost:8080/"
        },
        "id": "Mmt9s3VgnDjt",
        "outputId": "7233a533-de0f-4ff4-cfa9-b15e87b14576"
      },
      "outputs": [
        {
          "output_type": "stream",
          "name": "stdout",
          "text": [
            "              precision    recall  f1-score   support\n",
            "\n",
            "           0       0.84      0.89      0.86       134\n",
            "           1       0.81      0.74      0.78        89\n",
            "\n",
            "    accuracy                           0.83       223\n",
            "   macro avg       0.83      0.81      0.82       223\n",
            "weighted avg       0.83      0.83      0.83       223\n",
            "\n"
          ]
        }
      ],
      "source": [
        "from sklearn.metrics import classification_report\n",
        "\n",
        "print(classification_report(y_test, y_pred))"
      ]
    },
    {
      "cell_type": "markdown",
      "metadata": {
        "id": "Qga0wKOQ58pK"
      },
      "source": [
        "# Zadanie 6"
      ]
    },
    {
      "cell_type": "markdown",
      "source": [
        "## Iris"
      ],
      "metadata": {
        "id": "4UR9ht_UlQzh"
      }
    },
    {
      "cell_type": "code",
      "execution_count": null,
      "metadata": {
        "id": "G_KUIN3d5-u_"
      },
      "outputs": [],
      "source": [
        "from sklearn import datasets"
      ]
    },
    {
      "cell_type": "code",
      "source": [
        "iris = datasets.load_iris()\n",
        "X_iris, y_iris = datasets.load_iris(return_X_y=True)"
      ],
      "metadata": {
        "id": "BpzqfjI5lR4-"
      },
      "execution_count": null,
      "outputs": []
    },
    {
      "cell_type": "code",
      "source": [
        "X_train, X_test, y_train, y_test = train_test_split(X_iris, y_iris, test_size=0.3, random_state=42, stratify=y_iris)"
      ],
      "metadata": {
        "id": "tf8NQcJhliS0"
      },
      "execution_count": null,
      "outputs": []
    },
    {
      "cell_type": "code",
      "source": [
        "from sklearn.neighbors import KNeighborsClassifier as KNN\n",
        "\n",
        "neighbors = [1, 3, 5, 7]\n",
        "metrics = ['euclidean', 'manhattan']\n",
        "weights = ['uniform', 'distance']\n",
        "\n",
        "for metric in metrics:\n",
        "    print(f'\\n Metric: {metric}')\n",
        "    for n_neighbors in neighbors:\n",
        "        print(f'\\t N_neighbors = {n_neighbors}')\n",
        "        for weight in weights:\n",
        "            knn = KNN(n_neighbors=n_neighbors, metric=metric, weights=weight)\n",
        "            accuracy = cross_val_score(knn, X_train, y_train, cv=10).mean()\n",
        "            print(f'\\t\\t weights = {weight}, \\n\\t\\t\\t accuracy = {accuracy}')"
      ],
      "metadata": {
        "colab": {
          "base_uri": "https://localhost:8080/"
        },
        "id": "T8NGCNAWmm4P",
        "outputId": "18eb52a2-fd14-4602-ccc9-ae78f8a5afeb"
      },
      "execution_count": null,
      "outputs": [
        {
          "output_type": "stream",
          "name": "stdout",
          "text": [
            "\n",
            " Metric: euclidean\n",
            "\t N_neighbors = 1\n",
            "\t\t weights = uniform, \n",
            "\t\t\t accuracy = 0.9618181818181819\n",
            "\t\t weights = distance, \n",
            "\t\t\t accuracy = 0.9618181818181819\n",
            "\t N_neighbors = 3\n",
            "\t\t weights = uniform, \n",
            "\t\t\t accuracy = 0.9618181818181819\n",
            "\t\t weights = distance, \n",
            "\t\t\t accuracy = 0.9618181818181819\n",
            "\t N_neighbors = 5\n",
            "\t\t weights = uniform, \n",
            "\t\t\t accuracy = 0.9527272727272728\n",
            "\t\t weights = distance, \n",
            "\t\t\t accuracy = 0.9618181818181819\n",
            "\t N_neighbors = 7\n",
            "\t\t weights = uniform, \n",
            "\t\t\t accuracy = 0.9609090909090909\n",
            "\t\t weights = distance, \n",
            "\t\t\t accuracy = 0.9709090909090909\n",
            "\n",
            " Metric: manhattan\n",
            "\t N_neighbors = 1\n",
            "\t\t weights = uniform, \n",
            "\t\t\t accuracy = 0.9518181818181818\n",
            "\t\t weights = distance, \n",
            "\t\t\t accuracy = 0.9518181818181818\n",
            "\t N_neighbors = 3\n",
            "\t\t weights = uniform, \n",
            "\t\t\t accuracy = 0.9618181818181819\n",
            "\t\t weights = distance, \n",
            "\t\t\t accuracy = 0.9618181818181819\n",
            "\t N_neighbors = 5\n",
            "\t\t weights = uniform, \n",
            "\t\t\t accuracy = 0.9618181818181819\n",
            "\t\t weights = distance, \n",
            "\t\t\t accuracy = 0.9618181818181819\n",
            "\t N_neighbors = 7\n",
            "\t\t weights = uniform, \n",
            "\t\t\t accuracy = 0.9518181818181818\n",
            "\t\t weights = distance, \n",
            "\t\t\t accuracy = 0.9618181818181819\n"
          ]
        }
      ]
    },
    {
      "cell_type": "markdown",
      "source": [
        "**Metryka manhattan wydaje się działać nieco gorzej niż metryka euklidesowa, ponieważ w większości przypadków osiąga nieco niższe wyniki dokładności.**\n",
        "\n",
        "**Użycie różnych wag (uniform i distance) nie ma dużego wpływu na wyniki dokładności klasyfikacji.**\n",
        "\n",
        "**Najlepszą wartością parametru n_neighbors w większości przypadków okazała się być wartość 3 lub 7, jednak nie ma to dużego wpływu na dokładność klasyfikacji.**\n",
        "\n",
        "**Najlepszą dokładność klasyfikacji (0,9709) uzyskano dla metryki euklidesowej i użycia parametru n_neighbors równego 7 oraz użycia wag distance.**"
      ],
      "metadata": {
        "id": "2CmOQlXtG_H3"
      }
    },
    {
      "cell_type": "markdown",
      "source": [
        "## NYT"
      ],
      "metadata": {
        "id": "IOAiqOlOoxSE"
      }
    },
    {
      "cell_type": "code",
      "source": [
        "data = pd.read_csv('nyt-frame.csv', header=0)\n",
        "X = data.iloc[:, 9:].values\n",
        "y = data.iloc[:, 1].values"
      ],
      "metadata": {
        "id": "sS2Ahc6SoyGu"
      },
      "execution_count": null,
      "outputs": []
    },
    {
      "cell_type": "code",
      "source": [
        "from sklearn.decomposition import PCA\n",
        "pca = PCA(n_components=10)\n",
        "X_pca = pca.fit_transform(X)"
      ],
      "metadata": {
        "id": "Wy602pmmpbKk"
      },
      "execution_count": null,
      "outputs": []
    },
    {
      "cell_type": "code",
      "source": [
        "X_train, X_test, y_train, y_test = train_test_split(X_pca, y, test_size=0.3, random_state=42, stratify=y)"
      ],
      "metadata": {
        "id": "jKZ6QRSjpzry"
      },
      "execution_count": null,
      "outputs": []
    },
    {
      "cell_type": "code",
      "source": [
        "from sklearn.neighbors import KNeighborsClassifier as KNN\n",
        "\n",
        "neighbors = [1, 3, 5, 7]\n",
        "metrics = ['euclidean', 'manhattan']\n",
        "weights = ['uniform', 'distance']\n",
        "\n",
        "for metric in metrics:\n",
        "    print(f'\\n Metric: {metric}')\n",
        "    for n_neighbors in neighbors:\n",
        "        print(f'\\t N_neighbors = {n_neighbors}')\n",
        "        for weight in weights:\n",
        "            knn = KNN(n_neighbors=n_neighbors, metric=metric, weights=weight)\n",
        "            accuracy = cross_val_score(knn, X_train, y_train, cv=10).mean()\n",
        "            print(f'\\t\\t weights = {weight}, \\n\\t\\t\\t accuracy = {accuracy}')"
      ],
      "metadata": {
        "colab": {
          "base_uri": "https://localhost:8080/"
        },
        "id": "1atSkdwMpf2R",
        "outputId": "ba87778d-1fdd-4523-d0fd-dbeb41dcb56f"
      },
      "execution_count": null,
      "outputs": [
        {
          "output_type": "stream",
          "name": "stdout",
          "text": [
            "\n",
            " Metric: euclidean\n",
            "\t N_neighbors = 1\n",
            "\t\t weights = uniform, \n",
            "\t\t\t accuracy = 0.8589285714285715\n",
            "\t\t weights = distance, \n",
            "\t\t\t accuracy = 0.8589285714285715\n",
            "\t N_neighbors = 3\n",
            "\t\t weights = uniform, \n",
            "\t\t\t accuracy = 0.8875\n",
            "\t\t weights = distance, \n",
            "\t\t\t accuracy = 0.8875\n",
            "\t N_neighbors = 5\n",
            "\t\t weights = uniform, \n",
            "\t\t\t accuracy = 0.8857142857142858\n",
            "\t\t weights = distance, \n",
            "\t\t\t accuracy = 0.8714285714285713\n",
            "\t N_neighbors = 7\n",
            "\t\t weights = uniform, \n",
            "\t\t\t accuracy = 0.8714285714285713\n",
            "\t\t weights = distance, \n",
            "\t\t\t accuracy = 0.8571428571428571\n",
            "\n",
            " Metric: manhattan\n",
            "\t N_neighbors = 1\n",
            "\t\t weights = uniform, \n",
            "\t\t\t accuracy = 0.8321428571428571\n",
            "\t\t weights = distance, \n",
            "\t\t\t accuracy = 0.8321428571428571\n",
            "\t N_neighbors = 3\n",
            "\t\t weights = uniform, \n",
            "\t\t\t accuracy = 0.8428571428571427\n",
            "\t\t weights = distance, \n",
            "\t\t\t accuracy = 0.8428571428571427\n",
            "\t N_neighbors = 5\n",
            "\t\t weights = uniform, \n",
            "\t\t\t accuracy = 0.8571428571428571\n",
            "\t\t weights = distance, \n",
            "\t\t\t accuracy = 0.8571428571428571\n",
            "\t N_neighbors = 7\n",
            "\t\t weights = uniform, \n",
            "\t\t\t accuracy = 0.8571428571428571\n",
            "\t\t weights = distance, \n",
            "\t\t\t accuracy = 0.8571428571428571\n"
          ]
        }
      ]
    },
    {
      "cell_type": "markdown",
      "source": [
        "**Metryka manhattan wydaje się działać nieco gorzej niż metryka euklidesowa, ponieważ w większości przypadków osiąga niższe wyniki dokładności.**\n",
        "\n",
        "**W tym przypadku użycie różnych wag (uniform i distance) również nie ma dużego wpływu na wyniki dokładności klasyfikacji.**\n",
        "\n",
        "**Najlepszą wartością parametru n_neighbors okazała się być wartość 3 dla obu metryk.**\n",
        "\n",
        "**Użycie wag distance czasami wpłynęło negatywnie na wyniki dokładności dla większej liczby sąsiadów (n_neighbors), szczególnie dla metryki euklidesowej.**\n",
        "\n",
        "**Ogólnie dokładność klasyfikacji jest dość niska (około 85-89%), co sugeruje, że model klasyfikacji nie jest bardzo skuteczny dla tego zestawu danych.**"
      ],
      "metadata": {
        "id": "6MJiIRjGHrBL"
      }
    },
    {
      "cell_type": "markdown",
      "source": [
        "## KDTree"
      ],
      "metadata": {
        "id": "XKe-cgRqChTN"
      }
    },
    {
      "cell_type": "code",
      "source": [
        "import numpy as np\n",
        "\n",
        "class KDNode:\n",
        "    def __init__(self, data, split_dim=None, left=None, right=None):\n",
        "        self.data = data\n",
        "        self.split_dim = split_dim\n",
        "        self.left = left\n",
        "        self.right = right\n",
        "        \n",
        "class KDTree:\n",
        "    def __init__(self, data):\n",
        "        self.root = self._build(data)\n",
        "        \n",
        "    def _build(self, data, depth=0):\n",
        "        if not data.all():\n",
        "            return None\n",
        "        \n",
        "        n = len(data.shape)\n",
        "        split_dim = depth % n\n",
        "        \n",
        "        if (n-1) == depth:\n",
        "            return KDNode(data[0], split_dim)\n",
        "        \n",
        "        data = data[np.argsort(data[:, split_dim])]\n",
        "        mid = n // 2\n",
        "        \n",
        "        left = self._build(data[:mid], depth + 1)\n",
        "        right = self._build(data[mid+1:], depth + 1)\n",
        "        \n",
        "        return KDNode(data[mid], split_dim, left, right)\n",
        "    \n",
        "    def _query(self, node, point, k, dist_func, return_distances=True, best=None):\n",
        "        if node is None:\n",
        "            return [], []\n",
        "        \n",
        "        dim = node.split_dim\n",
        "        dist = dist_func(point, node.data)\n",
        "        dx = point[dim] - node.data[dim]\n",
        "        \n",
        "        if best is None:\n",
        "            best = [(dist, node.data)]\n",
        "        else:\n",
        "            best.append((dist, node.data))\n",
        "            best.sort(key=lambda x: x[0])\n",
        "            best = best[:k]\n",
        "        \n",
        "        if dx <= 0:\n",
        "            self._query(node.left, point, k, dist_func, return_distances, best)\n",
        "            if dx * dx < best[-1][0] or len(best) < k:\n",
        "                self._query(node.right, point, k, dist_func, return_distances, best)\n",
        "        else:\n",
        "            self._query(node.right, point, k, dist_func, return_distances, best)\n",
        "            if dx * dx < best[-1][0] or len(best) < k:\n",
        "                self._query(node.left, point, k, dist_func, return_distances, best)\n",
        "        \n",
        "        if return_distances:\n",
        "            return best\n",
        "        else:\n",
        "            return [x[1] for x in best]\n",
        "    \n",
        "    def query(self, point, k=1, dist_func='euclidean', return_distances=True):\n",
        "        if isinstance(dist_func, str):\n",
        "            dist_func = getattr(self, dist_func)\n",
        "        if len(point.shape) == 1:\n",
        "            point = point.reshape(1, -1)\n",
        "        nodes = self._query(self.root, point[0], k, dist_func, return_distances)\n",
        "        if return_distances:\n",
        "            return np.array([x[0] for x in nodes]), np.array([x[1] for x in nodes])\n",
        "        else:\n",
        "            return np.array(nodes)\n",
        "    \n",
        "    def euclidean(self, p1, p2):\n",
        "        return np.sqrt(np.sum((p1 - p2) ** 2))\n",
        "    \n",
        "    def manhattan(self, p1, p2):\n",
        "        return np.sum(np.abs(p1 - p2))\n"
      ],
      "metadata": {
        "id": "uv3JxYSZBicG"
      },
      "execution_count": null,
      "outputs": []
    },
    {
      "cell_type": "code",
      "source": [
        "tree = KDTree(X_iris)\n",
        "\n",
        "random_index = np.random.randint(0, high=X_iris.shape[0])\n",
        "\n",
        "distances, samples = tree.query(X_iris[random_index], k=3)\n",
        "\n",
        "print(f\"Point which we look for nearest neighbours: \\n{X_iris[random_index]}\")\n",
        "print(f\"Distances for nearest neighbours: \\n{distances}\")\n",
        "print(f\"Neares neighbours: \\n{samples}\")"
      ],
      "metadata": {
        "colab": {
          "base_uri": "https://localhost:8080/"
        },
        "id": "DSkjW_IzBwLQ",
        "outputId": "29cecd06-fa11-4ca2-8867-69a4d8381d30"
      },
      "execution_count": null,
      "outputs": [
        {
          "output_type": "stream",
          "name": "stdout",
          "text": [
            "Point which we look for nearest neighbours: \n",
            "[4.8 3.1 1.6 0.2]\n",
            "Distances for nearest neighbours: \n",
            "[0.50990195 0.50990195 0.72111026]\n",
            "Neares neighbours: \n",
            "[[4.4 3.2 1.3 0.2]\n",
            " [4.4 3.  1.3 0.2]\n",
            " [4.3 3.  1.1 0.1]]\n"
          ]
        }
      ]
    },
    {
      "cell_type": "markdown",
      "source": [
        "# Lasy Losowe"
      ],
      "metadata": {
        "id": "47JcAld_ynZE"
      }
    },
    {
      "cell_type": "markdown",
      "source": [
        "## Titanic"
      ],
      "metadata": {
        "id": "0CgzUXAZ6AEZ"
      }
    },
    {
      "cell_type": "code",
      "source": [
        "from sklearn.ensemble import RandomForestClassifier\n",
        "\n",
        "clf = RandomForestClassifier(n_estimators=100, criterion='entropy', max_depth=3, random_state=0)"
      ],
      "metadata": {
        "id": "L9fTvZa-yoty"
      },
      "execution_count": null,
      "outputs": []
    },
    {
      "cell_type": "code",
      "source": [
        "X = train.loc[:, train.columns != 'Survived']\n",
        "y = train.loc[:, 'Survived']\n",
        "\n",
        "X_train, X_test, y_train, y_test = train_test_split(X, y, test_size=0.25, random_state=42)"
      ],
      "metadata": {
        "id": "bdgc24EG2X53"
      },
      "execution_count": null,
      "outputs": []
    },
    {
      "cell_type": "code",
      "source": [
        "clf.fit(X_train, y_train)"
      ],
      "metadata": {
        "colab": {
          "base_uri": "https://localhost:8080/",
          "height": 74
        },
        "id": "bkNKPyzh3DNL",
        "outputId": "9e31827b-d17c-4eaa-8219-94c07698aff9"
      },
      "execution_count": null,
      "outputs": [
        {
          "output_type": "execute_result",
          "data": {
            "text/plain": [
              "RandomForestClassifier(criterion='entropy', max_depth=3, random_state=0)"
            ],
            "text/html": [
              "<style>#sk-container-id-3 {color: black;background-color: white;}#sk-container-id-3 pre{padding: 0;}#sk-container-id-3 div.sk-toggleable {background-color: white;}#sk-container-id-3 label.sk-toggleable__label {cursor: pointer;display: block;width: 100%;margin-bottom: 0;padding: 0.3em;box-sizing: border-box;text-align: center;}#sk-container-id-3 label.sk-toggleable__label-arrow:before {content: \"▸\";float: left;margin-right: 0.25em;color: #696969;}#sk-container-id-3 label.sk-toggleable__label-arrow:hover:before {color: black;}#sk-container-id-3 div.sk-estimator:hover label.sk-toggleable__label-arrow:before {color: black;}#sk-container-id-3 div.sk-toggleable__content {max-height: 0;max-width: 0;overflow: hidden;text-align: left;background-color: #f0f8ff;}#sk-container-id-3 div.sk-toggleable__content pre {margin: 0.2em;color: black;border-radius: 0.25em;background-color: #f0f8ff;}#sk-container-id-3 input.sk-toggleable__control:checked~div.sk-toggleable__content {max-height: 200px;max-width: 100%;overflow: auto;}#sk-container-id-3 input.sk-toggleable__control:checked~label.sk-toggleable__label-arrow:before {content: \"▾\";}#sk-container-id-3 div.sk-estimator input.sk-toggleable__control:checked~label.sk-toggleable__label {background-color: #d4ebff;}#sk-container-id-3 div.sk-label input.sk-toggleable__control:checked~label.sk-toggleable__label {background-color: #d4ebff;}#sk-container-id-3 input.sk-hidden--visually {border: 0;clip: rect(1px 1px 1px 1px);clip: rect(1px, 1px, 1px, 1px);height: 1px;margin: -1px;overflow: hidden;padding: 0;position: absolute;width: 1px;}#sk-container-id-3 div.sk-estimator {font-family: monospace;background-color: #f0f8ff;border: 1px dotted black;border-radius: 0.25em;box-sizing: border-box;margin-bottom: 0.5em;}#sk-container-id-3 div.sk-estimator:hover {background-color: #d4ebff;}#sk-container-id-3 div.sk-parallel-item::after {content: \"\";width: 100%;border-bottom: 1px solid gray;flex-grow: 1;}#sk-container-id-3 div.sk-label:hover label.sk-toggleable__label {background-color: #d4ebff;}#sk-container-id-3 div.sk-serial::before {content: \"\";position: absolute;border-left: 1px solid gray;box-sizing: border-box;top: 0;bottom: 0;left: 50%;z-index: 0;}#sk-container-id-3 div.sk-serial {display: flex;flex-direction: column;align-items: center;background-color: white;padding-right: 0.2em;padding-left: 0.2em;position: relative;}#sk-container-id-3 div.sk-item {position: relative;z-index: 1;}#sk-container-id-3 div.sk-parallel {display: flex;align-items: stretch;justify-content: center;background-color: white;position: relative;}#sk-container-id-3 div.sk-item::before, #sk-container-id-3 div.sk-parallel-item::before {content: \"\";position: absolute;border-left: 1px solid gray;box-sizing: border-box;top: 0;bottom: 0;left: 50%;z-index: -1;}#sk-container-id-3 div.sk-parallel-item {display: flex;flex-direction: column;z-index: 1;position: relative;background-color: white;}#sk-container-id-3 div.sk-parallel-item:first-child::after {align-self: flex-end;width: 50%;}#sk-container-id-3 div.sk-parallel-item:last-child::after {align-self: flex-start;width: 50%;}#sk-container-id-3 div.sk-parallel-item:only-child::after {width: 0;}#sk-container-id-3 div.sk-dashed-wrapped {border: 1px dashed gray;margin: 0 0.4em 0.5em 0.4em;box-sizing: border-box;padding-bottom: 0.4em;background-color: white;}#sk-container-id-3 div.sk-label label {font-family: monospace;font-weight: bold;display: inline-block;line-height: 1.2em;}#sk-container-id-3 div.sk-label-container {text-align: center;}#sk-container-id-3 div.sk-container {/* jupyter's `normalize.less` sets `[hidden] { display: none; }` but bootstrap.min.css set `[hidden] { display: none !important; }` so we also need the `!important` here to be able to override the default hidden behavior on the sphinx rendered scikit-learn.org. See: https://github.com/scikit-learn/scikit-learn/issues/21755 */display: inline-block !important;position: relative;}#sk-container-id-3 div.sk-text-repr-fallback {display: none;}</style><div id=\"sk-container-id-3\" class=\"sk-top-container\"><div class=\"sk-text-repr-fallback\"><pre>RandomForestClassifier(criterion=&#x27;entropy&#x27;, max_depth=3, random_state=0)</pre><b>In a Jupyter environment, please rerun this cell to show the HTML representation or trust the notebook. <br />On GitHub, the HTML representation is unable to render, please try loading this page with nbviewer.org.</b></div><div class=\"sk-container\" hidden><div class=\"sk-item\"><div class=\"sk-estimator sk-toggleable\"><input class=\"sk-toggleable__control sk-hidden--visually\" id=\"sk-estimator-id-3\" type=\"checkbox\" checked><label for=\"sk-estimator-id-3\" class=\"sk-toggleable__label sk-toggleable__label-arrow\">RandomForestClassifier</label><div class=\"sk-toggleable__content\"><pre>RandomForestClassifier(criterion=&#x27;entropy&#x27;, max_depth=3, random_state=0)</pre></div></div></div></div></div>"
            ]
          },
          "metadata": {},
          "execution_count": 37
        }
      ]
    },
    {
      "cell_type": "code",
      "source": [
        "y_pred =clf.predict(X_test)"
      ],
      "metadata": {
        "id": "zToE2sbh3Szh"
      },
      "execution_count": null,
      "outputs": []
    },
    {
      "cell_type": "code",
      "source": [
        "import matplotlib.pyplot as plt\n",
        "from sklearn.metrics._plot.confusion_matrix import ConfusionMatrixDisplay\n",
        "from sklearn.metrics import confusion_matrix\n",
        "\n",
        "cm = confusion_matrix(y_test, y_pred, labels=clf.classes_)\n",
        "disp = ConfusionMatrixDisplay(confusion_matrix=cm, display_labels=clf.classes_)\n",
        "disp.plot()\n",
        "plt.show()"
      ],
      "metadata": {
        "colab": {
          "base_uri": "https://localhost:8080/",
          "height": 449
        },
        "id": "DkwPY_Pr3WI_",
        "outputId": "b8c4ba0e-bb6a-4f25-9bed-299e2ac8f430"
      },
      "execution_count": null,
      "outputs": [
        {
          "output_type": "display_data",
          "data": {
            "text/plain": [
              "<Figure size 640x480 with 2 Axes>"
            ],
            "image/png": "[encoded data removed]"
          },
          "metadata": {}
        }
      ]
    },
    {
      "cell_type": "code",
      "source": [
        "from sklearn.metrics import classification_report\n",
        "\n",
        "print(classification_report(y_test, y_pred))"
      ],
      "metadata": {
        "colab": {
          "base_uri": "https://localhost:8080/"
        },
        "id": "BTROPs3S3fLq",
        "outputId": "a41d962b-42fb-480d-822d-b1a0aff76c50"
      },
      "execution_count": null,
      "outputs": [
        {
          "output_type": "stream",
          "name": "stdout",
          "text": [
            "              precision    recall  f1-score   support\n",
            "\n",
            "           0       0.83      0.88      0.86       134\n",
            "           1       0.80      0.73      0.76        89\n",
            "\n",
            "    accuracy                           0.82       223\n",
            "   macro avg       0.82      0.81      0.81       223\n",
            "weighted avg       0.82      0.82      0.82       223\n",
            "\n"
          ]
        }
      ]
    },
    {
      "cell_type": "markdown",
      "source": [
        "**Oba modele klasyfikacji, drzewo decyzyjne i las losowy, mają podobne wyniki precyzji (precision), czułości (recall) i miary F1 (f1-score). Wynik accuracy dla drzewa decyzyjnego wynosi 0,83, podczas gdy dla lasu losowego wynosi 0,82, co oznacza, że drzewo decyzyjne wydaje się mieć nieco lepszą zdolność do poprawnej klasyfikacji. Jednakże różnica ta jest niewielka i może być wynikiem losowej zmienności danych. Warto zwrócić uwagę na niskie wartości miary F1 dla klasy 1 w obu modelach, co sugeruje, że modele mają trudności w poprawnej klasyfikacji tej klasy.**"
      ],
      "metadata": {
        "id": "6tf23q8taDs3"
      }
    },
    {
      "cell_type": "markdown",
      "source": [
        "## Iris"
      ],
      "metadata": {
        "id": "XsGSFoON6Ge1"
      }
    },
    {
      "cell_type": "code",
      "source": [
        "X_train, X_test, y_train, y_test = train_test_split(X_iris, y_iris, test_size=0.3, random_state=42, stratify=y_iris)"
      ],
      "metadata": {
        "id": "4NnipfX_3kBU"
      },
      "execution_count": null,
      "outputs": []
    },
    {
      "cell_type": "code",
      "source": [
        "dephts = range(2, 7)\n",
        "\n",
        "for criterion in criterions:\n",
        "    for min_sample_leaf in range(1, 11):\n",
        "        print(f'Criterion: {criterion}, Min_leaf: {min_sample_leaf} \\n')\n",
        "        for max_depth in dephts:\n",
        "            clf = RandomForestClassifier(max_depth=max_depth, min_samples_leaf=min_sample_leaf, criterion=criterion)\n",
        "            cv_scores = cross_val_score(clf, X_train, y_train, cv=10, scoring='accuracy')\n",
        "            print(f\"\\t Max depth: {max_depth} \\t CV mean score: {cv_scores.mean()}\")"
      ],
      "metadata": {
        "colab": {
          "base_uri": "https://localhost:8080/"
        },
        "id": "PoZi9iZP6HP3",
        "outputId": "58ca9b4f-54b9-4a04-f0cf-8e46b8a02b58"
      },
      "execution_count": null,
      "outputs": [
        {
          "output_type": "stream",
          "name": "stdout",
          "text": [
            "Criterion: gini, Min_leaf: 1 \n",
            "\n",
            "\t Max depth: 2 \t CV mean score: 0.9518181818181819\n",
            "\t Max depth: 3 \t CV mean score: 0.9518181818181819\n",
            "\t Max depth: 4 \t CV mean score: 0.9518181818181819\n",
            "\t Max depth: 5 \t CV mean score: 0.9518181818181819\n",
            "\t Max depth: 6 \t CV mean score: 0.9518181818181819\n",
            "Criterion: gini, Min_leaf: 2 \n",
            "\n",
            "\t Max depth: 2 \t CV mean score: 0.9618181818181817\n",
            "\t Max depth: 3 \t CV mean score: 0.9618181818181817\n",
            "\t Max depth: 4 \t CV mean score: 0.9718181818181819\n",
            "\t Max depth: 5 \t CV mean score: 0.9618181818181817\n",
            "\t Max depth: 6 \t CV mean score: 0.9618181818181817\n",
            "Criterion: gini, Min_leaf: 3 \n",
            "\n",
            "\t Max depth: 2 \t CV mean score: 0.9618181818181817\n",
            "\t Max depth: 3 \t CV mean score: 0.9618181818181817\n",
            "\t Max depth: 4 \t CV mean score: 0.9518181818181819\n",
            "\t Max depth: 5 \t CV mean score: 0.9618181818181817\n",
            "\t Max depth: 6 \t CV mean score: 0.9618181818181817\n",
            "Criterion: gini, Min_leaf: 4 \n",
            "\n",
            "\t Max depth: 2 \t CV mean score: 0.9618181818181817\n",
            "\t Max depth: 3 \t CV mean score: 0.9618181818181817\n",
            "\t Max depth: 4 \t CV mean score: 0.9618181818181817\n",
            "\t Max depth: 5 \t CV mean score: 0.9618181818181817\n",
            "\t Max depth: 6 \t CV mean score: 0.9618181818181817\n",
            "Criterion: gini, Min_leaf: 5 \n",
            "\n",
            "\t Max depth: 2 \t CV mean score: 0.9718181818181819\n",
            "\t Max depth: 3 \t CV mean score: 0.9618181818181817\n",
            "\t Max depth: 4 \t CV mean score: 0.9618181818181817\n",
            "\t Max depth: 5 \t CV mean score: 0.9618181818181817\n",
            "\t Max depth: 6 \t CV mean score: 0.9618181818181817\n",
            "Criterion: gini, Min_leaf: 6 \n",
            "\n",
            "\t Max depth: 2 \t CV mean score: 0.9618181818181817\n",
            "\t Max depth: 3 \t CV mean score: 0.9618181818181817\n",
            "\t Max depth: 4 \t CV mean score: 0.9618181818181817\n",
            "\t Max depth: 5 \t CV mean score: 0.9618181818181817\n",
            "\t Max depth: 6 \t CV mean score: 0.9618181818181817\n",
            "Criterion: gini, Min_leaf: 7 \n",
            "\n",
            "\t Max depth: 2 \t CV mean score: 0.9618181818181817\n",
            "\t Max depth: 3 \t CV mean score: 0.9718181818181819\n",
            "\t Max depth: 4 \t CV mean score: 0.9718181818181819\n",
            "\t Max depth: 5 \t CV mean score: 0.9618181818181817\n",
            "\t Max depth: 6 \t CV mean score: 0.9618181818181817\n",
            "Criterion: gini, Min_leaf: 8 \n",
            "\n",
            "\t Max depth: 2 \t CV mean score: 0.9618181818181817\n",
            "\t Max depth: 3 \t CV mean score: 0.9718181818181819\n",
            "\t Max depth: 4 \t CV mean score: 0.9618181818181817\n",
            "\t Max depth: 5 \t CV mean score: 0.9718181818181819\n",
            "\t Max depth: 6 \t CV mean score: 0.9618181818181817\n",
            "Criterion: gini, Min_leaf: 9 \n",
            "\n",
            "\t Max depth: 2 \t CV mean score: 0.9618181818181817\n",
            "\t Max depth: 3 \t CV mean score: 0.9618181818181817\n",
            "\t Max depth: 4 \t CV mean score: 0.9618181818181817\n",
            "\t Max depth: 5 \t CV mean score: 0.9618181818181817\n",
            "\t Max depth: 6 \t CV mean score: 0.9618181818181817\n",
            "Criterion: gini, Min_leaf: 10 \n",
            "\n",
            "\t Max depth: 2 \t CV mean score: 0.9618181818181817\n",
            "\t Max depth: 3 \t CV mean score: 0.9518181818181819\n",
            "\t Max depth: 4 \t CV mean score: 0.9618181818181817\n",
            "\t Max depth: 5 \t CV mean score: 0.9718181818181819\n",
            "\t Max depth: 6 \t CV mean score: 0.9618181818181817\n",
            "Criterion: entropy, Min_leaf: 1 \n",
            "\n",
            "\t Max depth: 2 \t CV mean score: 0.9518181818181819\n",
            "\t Max depth: 3 \t CV mean score: 0.9618181818181817\n",
            "\t Max depth: 4 \t CV mean score: 0.9518181818181819\n",
            "\t Max depth: 5 \t CV mean score: 0.9518181818181819\n",
            "\t Max depth: 6 \t CV mean score: 0.9518181818181819\n",
            "Criterion: entropy, Min_leaf: 2 \n",
            "\n",
            "\t Max depth: 2 \t CV mean score: 0.9618181818181817\n",
            "\t Max depth: 3 \t CV mean score: 0.9518181818181819\n",
            "\t Max depth: 4 \t CV mean score: 0.9518181818181819\n",
            "\t Max depth: 5 \t CV mean score: 0.9618181818181817\n",
            "\t Max depth: 6 \t CV mean score: 0.9518181818181819\n",
            "Criterion: entropy, Min_leaf: 3 \n",
            "\n",
            "\t Max depth: 2 \t CV mean score: 0.9618181818181817\n",
            "\t Max depth: 3 \t CV mean score: 0.9618181818181817\n",
            "\t Max depth: 4 \t CV mean score: 0.9618181818181817\n",
            "\t Max depth: 5 \t CV mean score: 0.9618181818181817\n",
            "\t Max depth: 6 \t CV mean score: 0.9618181818181817\n",
            "Criterion: entropy, Min_leaf: 4 \n",
            "\n",
            "\t Max depth: 2 \t CV mean score: 0.9718181818181819\n",
            "\t Max depth: 3 \t CV mean score: 0.9618181818181817\n",
            "\t Max depth: 4 \t CV mean score: 0.9618181818181817\n",
            "\t Max depth: 5 \t CV mean score: 0.9718181818181819\n",
            "\t Max depth: 6 \t CV mean score: 0.9618181818181817\n",
            "Criterion: entropy, Min_leaf: 5 \n",
            "\n",
            "\t Max depth: 2 \t CV mean score: 0.9618181818181817\n",
            "\t Max depth: 3 \t CV mean score: 0.9618181818181817\n",
            "\t Max depth: 4 \t CV mean score: 0.9618181818181817\n",
            "\t Max depth: 5 \t CV mean score: 0.9718181818181819\n",
            "\t Max depth: 6 \t CV mean score: 0.9618181818181817\n",
            "Criterion: entropy, Min_leaf: 6 \n",
            "\n",
            "\t Max depth: 2 \t CV mean score: 0.9618181818181817\n",
            "\t Max depth: 3 \t CV mean score: 0.9618181818181817\n",
            "\t Max depth: 4 \t CV mean score: 0.9718181818181819\n",
            "\t Max depth: 5 \t CV mean score: 0.9618181818181817\n",
            "\t Max depth: 6 \t CV mean score: 0.9618181818181817\n",
            "Criterion: entropy, Min_leaf: 7 \n",
            "\n",
            "\t Max depth: 2 \t CV mean score: 0.9618181818181817\n",
            "\t Max depth: 3 \t CV mean score: 0.9518181818181819\n",
            "\t Max depth: 4 \t CV mean score: 0.9618181818181817\n",
            "\t Max depth: 5 \t CV mean score: 0.9618181818181817\n",
            "\t Max depth: 6 \t CV mean score: 0.9718181818181819\n",
            "Criterion: entropy, Min_leaf: 8 \n",
            "\n",
            "\t Max depth: 2 \t CV mean score: 0.9618181818181817\n",
            "\t Max depth: 3 \t CV mean score: 0.9618181818181817\n",
            "\t Max depth: 4 \t CV mean score: 0.9618181818181817\n",
            "\t Max depth: 5 \t CV mean score: 0.9618181818181817\n",
            "\t Max depth: 6 \t CV mean score: 0.9618181818181817\n",
            "Criterion: entropy, Min_leaf: 9 \n",
            "\n",
            "\t Max depth: 2 \t CV mean score: 0.9618181818181817\n",
            "\t Max depth: 3 \t CV mean score: 0.9618181818181817\n",
            "\t Max depth: 4 \t CV mean score: 0.9718181818181819\n",
            "\t Max depth: 5 \t CV mean score: 0.9618181818181817\n",
            "\t Max depth: 6 \t CV mean score: 0.9718181818181819\n",
            "Criterion: entropy, Min_leaf: 10 \n",
            "\n",
            "\t Max depth: 2 \t CV mean score: 0.9618181818181817\n",
            "\t Max depth: 3 \t CV mean score: 0.9618181818181817\n",
            "\t Max depth: 4 \t CV mean score: 0.9618181818181817\n",
            "\t Max depth: 5 \t CV mean score: 0.9618181818181817\n",
            "\t Max depth: 6 \t CV mean score: 0.9618181818181817\n"
          ]
        }
      ]
    },
    {
      "cell_type": "markdown",
      "source": [
        "**Ogólnie wyniki są dobre, ponieważ średnie wyniki walidacji krzyżowej (CV mean score) wynoszą od 0.95 do 0.97 dla większości zestawów parametrów.**\n",
        "\n",
        "**Dla kryterium gini, przy minimalnej liczbie próbek w liściu wynoszącej 2 i maksymalnej głębokości drzewa wynoszącej 4, uzyskano najlepszy wynik walidacji krzyżowej wynoszący 0.97. Jednakże, w większości przypadków wyniki są bardzo podobne i trudno wybrać jeden zestaw parametrów jako najlepszy.**\n",
        "\n",
        "**W przypadku kryterium entropy, wyniki są nieznacznie lepsze dla niektórych zestawów parametrów, ale wciąż są bardzo podobne do tych uzyskanych dla kryterium gini.**\n",
        "\n",
        "**Ogólnie rzecz biorąc, wyniki uzyskane dla lasów losowych są zadowalające i potwierdzają ich popularność jako skutecznego algorytmu uczenia maszynowego do klasyfikacji i regresji.**"
      ],
      "metadata": {
        "id": "JB7fJgOYbDAI"
      }
    },
    {
      "cell_type": "markdown",
      "source": [
        "## NYT"
      ],
      "metadata": {
        "id": "251WAidk-_Ea"
      }
    },
    {
      "cell_type": "code",
      "source": [
        "data = pd.read_csv('nyt-frame.csv', header=0)\n",
        "X = data.iloc[:, 9:].values\n",
        "y = data.iloc[:, 1].values"
      ],
      "metadata": {
        "id": "cz7WQ6fz6Zyl"
      },
      "execution_count": null,
      "outputs": []
    },
    {
      "cell_type": "code",
      "source": [
        "X_train, X_test, y_train, y_test = train_test_split(X, y, test_size=0.3, random_state=42, stratify=y)"
      ],
      "metadata": {
        "id": "qGU1KkFF-_4F"
      },
      "execution_count": null,
      "outputs": []
    },
    {
      "cell_type": "code",
      "source": [
        "dephts = range(2, 7)\n",
        "\n",
        "for criterion in criterions:\n",
        "    for min_sample_leaf in range(1, 11):\n",
        "        print(f'Criterion: {criterion}, Min_leaf: {min_sample_leaf} \\n')\n",
        "        for max_depth in dephts:\n",
        "            clf = RandomForestClassifier(max_depth=max_depth, min_samples_leaf=min_sample_leaf, criterion=criterion)\n",
        "            cv_scores = cross_val_score(clf, X_train, y_train, cv=10, scoring='accuracy')\n",
        "            print(f\"\\t Max depth: {max_depth} \\t CV mean score: {cv_scores.mean()}\")"
      ],
      "metadata": {
        "colab": {
          "base_uri": "https://localhost:8080/"
        },
        "id": "vZZbPAsv_HNu",
        "outputId": "4ee670d3-354a-4d74-eb72-c88693eea3c9"
      },
      "execution_count": null,
      "outputs": [
        {
          "output_type": "stream",
          "name": "stdout",
          "text": [
            "Criterion: gini, Min_leaf: 1 \n",
            "\n",
            "\t Max depth: 2 \t CV mean score: 0.8035714285714286\n",
            "\t Max depth: 3 \t CV mean score: 0.7875\n",
            "\t Max depth: 4 \t CV mean score: 0.8017857142857142\n",
            "\t Max depth: 5 \t CV mean score: 0.8017857142857142\n",
            "\t Max depth: 6 \t CV mean score: 0.8285714285714285\n",
            "Criterion: gini, Min_leaf: 2 \n",
            "\n",
            "\t Max depth: 2 \t CV mean score: 0.775\n",
            "\t Max depth: 3 \t CV mean score: 0.7160714285714286\n",
            "\t Max depth: 4 \t CV mean score: 0.8446428571428571\n",
            "\t Max depth: 5 \t CV mean score: 0.7589285714285714\n",
            "\t Max depth: 6 \t CV mean score: 0.8017857142857142\n",
            "Criterion: gini, Min_leaf: 3 \n",
            "\n",
            "\t Max depth: 2 \t CV mean score: 0.8178571428571428\n",
            "\t Max depth: 3 \t CV mean score: 0.8035714285714286\n",
            "\t Max depth: 4 \t CV mean score: 0.8303571428571429\n",
            "\t Max depth: 5 \t CV mean score: 0.8589285714285715\n",
            "\t Max depth: 6 \t CV mean score: 0.7999999999999999\n",
            "Criterion: gini, Min_leaf: 4 \n",
            "\n",
            "\t Max depth: 2 \t CV mean score: 0.7607142857142858\n",
            "\t Max depth: 3 \t CV mean score: 0.7857142857142857\n",
            "\t Max depth: 4 \t CV mean score: 0.7749999999999999\n",
            "\t Max depth: 5 \t CV mean score: 0.8017857142857142\n",
            "\t Max depth: 6 \t CV mean score: 0.8017857142857142\n",
            "Criterion: gini, Min_leaf: 5 \n",
            "\n",
            "\t Max depth: 2 \t CV mean score: 0.7732142857142856\n",
            "\t Max depth: 3 \t CV mean score: 0.775\n",
            "\t Max depth: 4 \t CV mean score: 0.7732142857142856\n",
            "\t Max depth: 5 \t CV mean score: 0.7607142857142857\n",
            "\t Max depth: 6 \t CV mean score: 0.7589285714285714\n",
            "Criterion: gini, Min_leaf: 6 \n",
            "\n",
            "\t Max depth: 2 \t CV mean score: 0.7464285714285713\n",
            "\t Max depth: 3 \t CV mean score: 0.7607142857142857\n",
            "\t Max depth: 4 \t CV mean score: 0.7589285714285714\n",
            "\t Max depth: 5 \t CV mean score: 0.7607142857142857\n",
            "\t Max depth: 6 \t CV mean score: 0.7714285714285714\n",
            "Criterion: gini, Min_leaf: 7 \n",
            "\n",
            "\t Max depth: 2 \t CV mean score: 0.7749999999999999\n",
            "\t Max depth: 3 \t CV mean score: 0.7178571428571429\n",
            "\t Max depth: 4 \t CV mean score: 0.8017857142857142\n",
            "\t Max depth: 5 \t CV mean score: 0.7035714285714285\n",
            "\t Max depth: 6 \t CV mean score: 0.7732142857142856\n",
            "Criterion: gini, Min_leaf: 8 \n",
            "\n",
            "\t Max depth: 2 \t CV mean score: 0.7607142857142857\n",
            "\t Max depth: 3 \t CV mean score: 0.7035714285714285\n",
            "\t Max depth: 4 \t CV mean score: 0.7464285714285713\n",
            "\t Max depth: 5 \t CV mean score: 0.7303571428571429\n",
            "\t Max depth: 6 \t CV mean score: 0.7053571428571427\n",
            "Criterion: gini, Min_leaf: 9 \n",
            "\n",
            "\t Max depth: 2 \t CV mean score: 0.6785714285714285\n",
            "\t Max depth: 3 \t CV mean score: 0.6785714285714286\n",
            "\t Max depth: 4 \t CV mean score: 0.7339285714285714\n",
            "\t Max depth: 5 \t CV mean score: 0.7071428571428571\n",
            "\t Max depth: 6 \t CV mean score: 0.6785714285714286\n",
            "Criterion: gini, Min_leaf: 10 \n",
            "\n",
            "\t Max depth: 2 \t CV mean score: 0.7214285714285713\n",
            "\t Max depth: 3 \t CV mean score: 0.7071428571428571\n",
            "\t Max depth: 4 \t CV mean score: 0.6499999999999999\n",
            "\t Max depth: 5 \t CV mean score: 0.6785714285714286\n",
            "\t Max depth: 6 \t CV mean score: 0.6928571428571427\n",
            "Criterion: entropy, Min_leaf: 1 \n",
            "\n",
            "\t Max depth: 2 \t CV mean score: 0.7857142857142857\n",
            "\t Max depth: 3 \t CV mean score: 0.7874999999999999\n",
            "\t Max depth: 4 \t CV mean score: 0.8178571428571427\n",
            "\t Max depth: 5 \t CV mean score: 0.8017857142857144\n",
            "\t Max depth: 6 \t CV mean score: 0.7428571428571428\n",
            "Criterion: entropy, Min_leaf: 2 \n",
            "\n",
            "\t Max depth: 2 \t CV mean score: 0.7875\n",
            "\t Max depth: 3 \t CV mean score: 0.7749999999999999\n",
            "\t Max depth: 4 \t CV mean score: 0.8196428571428571\n",
            "\t Max depth: 5 \t CV mean score: 0.7732142857142856\n",
            "\t Max depth: 6 \t CV mean score: 0.8035714285714286\n",
            "Criterion: entropy, Min_leaf: 3 \n",
            "\n",
            "\t Max depth: 2 \t CV mean score: 0.7874999999999999\n",
            "\t Max depth: 3 \t CV mean score: 0.8285714285714286\n",
            "\t Max depth: 4 \t CV mean score: 0.7732142857142856\n",
            "\t Max depth: 5 \t CV mean score: 0.8017857142857142\n",
            "\t Max depth: 6 \t CV mean score: 0.7732142857142857\n",
            "Criterion: entropy, Min_leaf: 4 \n",
            "\n",
            "\t Max depth: 2 \t CV mean score: 0.7732142857142856\n",
            "\t Max depth: 3 \t CV mean score: 0.8285714285714285\n",
            "\t Max depth: 4 \t CV mean score: 0.7999999999999999\n",
            "\t Max depth: 5 \t CV mean score: 0.8160714285714287\n",
            "\t Max depth: 6 \t CV mean score: 0.775\n",
            "Criterion: entropy, Min_leaf: 5 \n",
            "\n",
            "\t Max depth: 2 \t CV mean score: 0.8160714285714287\n",
            "\t Max depth: 3 \t CV mean score: 0.7875\n",
            "\t Max depth: 4 \t CV mean score: 0.744642857142857\n",
            "\t Max depth: 5 \t CV mean score: 0.7732142857142856\n",
            "\t Max depth: 6 \t CV mean score: 0.7750000000000001\n",
            "Criterion: entropy, Min_leaf: 6 \n",
            "\n",
            "\t Max depth: 2 \t CV mean score: 0.7321428571428571\n",
            "\t Max depth: 3 \t CV mean score: 0.7607142857142857\n",
            "\t Max depth: 4 \t CV mean score: 0.7160714285714286\n",
            "\t Max depth: 5 \t CV mean score: 0.7589285714285714\n",
            "\t Max depth: 6 \t CV mean score: 0.8017857142857142\n",
            "Criterion: entropy, Min_leaf: 7 \n",
            "\n",
            "\t Max depth: 2 \t CV mean score: 0.732142857142857\n",
            "\t Max depth: 3 \t CV mean score: 0.7303571428571429\n",
            "\t Max depth: 4 \t CV mean score: 0.7464285714285714\n",
            "\t Max depth: 5 \t CV mean score: 0.7160714285714285\n",
            "\t Max depth: 6 \t CV mean score: 0.7749999999999999\n",
            "Criterion: entropy, Min_leaf: 8 \n",
            "\n",
            "\t Max depth: 2 \t CV mean score: 0.7464285714285713\n",
            "\t Max depth: 3 \t CV mean score: 0.7017857142857142\n",
            "\t Max depth: 4 \t CV mean score: 0.732142857142857\n",
            "\t Max depth: 5 \t CV mean score: 0.7303571428571429\n",
            "\t Max depth: 6 \t CV mean score: 0.7732142857142857\n",
            "Criterion: entropy, Min_leaf: 9 \n",
            "\n",
            "\t Max depth: 2 \t CV mean score: 0.7071428571428571\n",
            "\t Max depth: 3 \t CV mean score: 0.6749999999999999\n",
            "\t Max depth: 4 \t CV mean score: 0.6357142857142857\n",
            "\t Max depth: 5 \t CV mean score: 0.6928571428571428\n",
            "\t Max depth: 6 \t CV mean score: 0.7482142857142857\n",
            "Criterion: entropy, Min_leaf: 10 \n",
            "\n",
            "\t Max depth: 2 \t CV mean score: 0.7035714285714285\n",
            "\t Max depth: 3 \t CV mean score: 0.7053571428571428\n",
            "\t Max depth: 4 \t CV mean score: 0.6892857142857143\n",
            "\t Max depth: 5 \t CV mean score: 0.6785714285714285\n",
            "\t Max depth: 6 \t CV mean score: 0.6928571428571428\n"
          ]
        }
      ]
    },
    {
      "cell_type": "code",
      "source": [
        "X_train, X_test, y_train, y_test = train_test_split(X_pca, y, test_size=0.3, random_state=42, stratify=y)"
      ],
      "metadata": {
        "id": "t5mINtpU_OzO"
      },
      "execution_count": null,
      "outputs": []
    },
    {
      "cell_type": "code",
      "source": [
        "dephts = range(2, 7)\n",
        "\n",
        "for criterion in criterions:\n",
        "    for min_sample_leaf in range(1, 11):\n",
        "        print(f'Criterion: {criterion}, Min_leaf: {min_sample_leaf} \\n')\n",
        "        for max_depth in dephts:\n",
        "            clf = RandomForestClassifier(max_depth=max_depth, min_samples_leaf=min_sample_leaf, criterion=criterion)\n",
        "            cv_scores = cross_val_score(clf, X_train, y_train, cv=10, scoring='accuracy')\n",
        "            print(f\"\\t Max depth: {max_depth} \\t CV mean score: {cv_scores.mean()}\")"
      ],
      "metadata": {
        "colab": {
          "base_uri": "https://localhost:8080/"
        },
        "id": "4iqwAwEy_Xk9",
        "outputId": "3e0eea9d-ef50-4074-81e9-d639004f3966"
      },
      "execution_count": null,
      "outputs": [
        {
          "output_type": "stream",
          "name": "stdout",
          "text": [
            "Criterion: gini, Min_leaf: 1 \n",
            "\n",
            "\t Max depth: 2 \t CV mean score: 0.875\n",
            "\t Max depth: 3 \t CV mean score: 0.8892857142857145\n",
            "\t Max depth: 4 \t CV mean score: 0.8892857142857145\n",
            "\t Max depth: 5 \t CV mean score: 0.9035714285714287\n",
            "\t Max depth: 6 \t CV mean score: 0.9178571428571429\n",
            "Criterion: gini, Min_leaf: 2 \n",
            "\n",
            "\t Max depth: 2 \t CV mean score: 0.9178571428571429\n",
            "\t Max depth: 3 \t CV mean score: 0.9035714285714287\n",
            "\t Max depth: 4 \t CV mean score: 0.9178571428571429\n",
            "\t Max depth: 5 \t CV mean score: 0.9178571428571429\n",
            "\t Max depth: 6 \t CV mean score: 0.9035714285714287\n",
            "Criterion: gini, Min_leaf: 3 \n",
            "\n",
            "\t Max depth: 2 \t CV mean score: 0.9035714285714285\n",
            "\t Max depth: 3 \t CV mean score: 0.9035714285714285\n",
            "\t Max depth: 4 \t CV mean score: 0.9178571428571429\n",
            "\t Max depth: 5 \t CV mean score: 0.9178571428571429\n",
            "\t Max depth: 6 \t CV mean score: 0.9035714285714285\n",
            "Criterion: gini, Min_leaf: 4 \n",
            "\n",
            "\t Max depth: 2 \t CV mean score: 0.9035714285714285\n",
            "\t Max depth: 3 \t CV mean score: 0.9178571428571429\n",
            "\t Max depth: 4 \t CV mean score: 0.8892857142857142\n",
            "\t Max depth: 5 \t CV mean score: 0.8892857142857142\n",
            "\t Max depth: 6 \t CV mean score: 0.9035714285714285\n",
            "Criterion: gini, Min_leaf: 5 \n",
            "\n",
            "\t Max depth: 2 \t CV mean score: 0.8892857142857142\n",
            "\t Max depth: 3 \t CV mean score: 0.9035714285714285\n",
            "\t Max depth: 4 \t CV mean score: 0.9035714285714285\n",
            "\t Max depth: 5 \t CV mean score: 0.8892857142857142\n",
            "\t Max depth: 6 \t CV mean score: 0.8892857142857142\n",
            "Criterion: gini, Min_leaf: 6 \n",
            "\n",
            "\t Max depth: 2 \t CV mean score: 0.9178571428571429\n",
            "\t Max depth: 3 \t CV mean score: 0.9321428571428573\n",
            "\t Max depth: 4 \t CV mean score: 0.8892857142857142\n",
            "\t Max depth: 5 \t CV mean score: 0.9035714285714285\n",
            "\t Max depth: 6 \t CV mean score: 0.9035714285714285\n",
            "Criterion: gini, Min_leaf: 7 \n",
            "\n",
            "\t Max depth: 2 \t CV mean score: 0.9035714285714285\n",
            "\t Max depth: 3 \t CV mean score: 0.9035714285714285\n",
            "\t Max depth: 4 \t CV mean score: 0.9035714285714285\n",
            "\t Max depth: 5 \t CV mean score: 0.875\n",
            "\t Max depth: 6 \t CV mean score: 0.9178571428571429\n",
            "Criterion: gini, Min_leaf: 8 \n",
            "\n",
            "\t Max depth: 2 \t CV mean score: 0.8892857142857142\n",
            "\t Max depth: 3 \t CV mean score: 0.9178571428571429\n",
            "\t Max depth: 4 \t CV mean score: 0.9178571428571429\n",
            "\t Max depth: 5 \t CV mean score: 0.875\n",
            "\t Max depth: 6 \t CV mean score: 0.8892857142857142\n",
            "Criterion: gini, Min_leaf: 9 \n",
            "\n",
            "\t Max depth: 2 \t CV mean score: 0.8892857142857142\n",
            "\t Max depth: 3 \t CV mean score: 0.9178571428571429\n",
            "\t Max depth: 4 \t CV mean score: 0.9321428571428573\n",
            "\t Max depth: 5 \t CV mean score: 0.9178571428571429\n",
            "\t Max depth: 6 \t CV mean score: 0.9178571428571429\n",
            "Criterion: gini, Min_leaf: 10 \n",
            "\n",
            "\t Max depth: 2 \t CV mean score: 0.9178571428571429\n",
            "\t Max depth: 3 \t CV mean score: 0.8892857142857142\n",
            "\t Max depth: 4 \t CV mean score: 0.9178571428571429\n",
            "\t Max depth: 5 \t CV mean score: 0.9321428571428573\n",
            "\t Max depth: 6 \t CV mean score: 0.8892857142857142\n",
            "Criterion: entropy, Min_leaf: 1 \n",
            "\n",
            "\t Max depth: 2 \t CV mean score: 0.8892857142857145\n",
            "\t Max depth: 3 \t CV mean score: 0.9035714285714287\n",
            "\t Max depth: 4 \t CV mean score: 0.9035714285714287\n",
            "\t Max depth: 5 \t CV mean score: 0.9035714285714287\n",
            "\t Max depth: 6 \t CV mean score: 0.9035714285714287\n",
            "Criterion: entropy, Min_leaf: 2 \n",
            "\n",
            "\t Max depth: 2 \t CV mean score: 0.8892857142857145\n",
            "\t Max depth: 3 \t CV mean score: 0.9178571428571429\n",
            "\t Max depth: 4 \t CV mean score: 0.9178571428571429\n",
            "\t Max depth: 5 \t CV mean score: 0.9035714285714287\n",
            "\t Max depth: 6 \t CV mean score: 0.9035714285714287\n",
            "Criterion: entropy, Min_leaf: 3 \n",
            "\n",
            "\t Max depth: 2 \t CV mean score: 0.8607142857142858\n",
            "\t Max depth: 3 \t CV mean score: 0.9035714285714287\n",
            "\t Max depth: 4 \t CV mean score: 0.9321428571428573\n",
            "\t Max depth: 5 \t CV mean score: 0.875\n",
            "\t Max depth: 6 \t CV mean score: 0.9178571428571429\n",
            "Criterion: entropy, Min_leaf: 4 \n",
            "\n",
            "\t Max depth: 2 \t CV mean score: 0.9035714285714285\n",
            "\t Max depth: 3 \t CV mean score: 0.9035714285714287\n",
            "\t Max depth: 4 \t CV mean score: 0.9035714285714285\n",
            "\t Max depth: 5 \t CV mean score: 0.8892857142857142\n",
            "\t Max depth: 6 \t CV mean score: 0.9178571428571429\n",
            "Criterion: entropy, Min_leaf: 5 \n",
            "\n",
            "\t Max depth: 2 \t CV mean score: 0.8892857142857142\n",
            "\t Max depth: 3 \t CV mean score: 0.9464285714285715\n",
            "\t Max depth: 4 \t CV mean score: 0.8892857142857142\n",
            "\t Max depth: 5 \t CV mean score: 0.9035714285714285\n",
            "\t Max depth: 6 \t CV mean score: 0.9178571428571429\n",
            "Criterion: entropy, Min_leaf: 6 \n",
            "\n",
            "\t Max depth: 2 \t CV mean score: 0.9035714285714285\n",
            "\t Max depth: 3 \t CV mean score: 0.9178571428571429\n",
            "\t Max depth: 4 \t CV mean score: 0.9035714285714285\n",
            "\t Max depth: 5 \t CV mean score: 0.8892857142857142\n",
            "\t Max depth: 6 \t CV mean score: 0.9035714285714285\n",
            "Criterion: entropy, Min_leaf: 7 \n",
            "\n",
            "\t Max depth: 2 \t CV mean score: 0.8892857142857142\n",
            "\t Max depth: 3 \t CV mean score: 0.9178571428571429\n",
            "\t Max depth: 4 \t CV mean score: 0.9178571428571429\n",
            "\t Max depth: 5 \t CV mean score: 0.9035714285714285\n",
            "\t Max depth: 6 \t CV mean score: 0.8892857142857142\n",
            "Criterion: entropy, Min_leaf: 8 \n",
            "\n",
            "\t Max depth: 2 \t CV mean score: 0.9178571428571429\n",
            "\t Max depth: 3 \t CV mean score: 0.9178571428571429\n",
            "\t Max depth: 4 \t CV mean score: 0.8464285714285713\n",
            "\t Max depth: 5 \t CV mean score: 0.9035714285714285\n",
            "\t Max depth: 6 \t CV mean score: 0.9178571428571429\n",
            "Criterion: entropy, Min_leaf: 9 \n",
            "\n",
            "\t Max depth: 2 \t CV mean score: 0.9035714285714285\n",
            "\t Max depth: 3 \t CV mean score: 0.9321428571428572\n",
            "\t Max depth: 4 \t CV mean score: 0.8892857142857142\n",
            "\t Max depth: 5 \t CV mean score: 0.9035714285714285\n",
            "\t Max depth: 6 \t CV mean score: 0.9035714285714285\n",
            "Criterion: entropy, Min_leaf: 10 \n",
            "\n",
            "\t Max depth: 2 \t CV mean score: 0.8892857142857145\n",
            "\t Max depth: 3 \t CV mean score: 0.9035714285714285\n",
            "\t Max depth: 4 \t CV mean score: 0.9035714285714285\n",
            "\t Max depth: 5 \t CV mean score: 0.9178571428571429\n",
            "\t Max depth: 6 \t CV mean score: 0.9035714285714285\n"
          ]
        }
      ]
    },
    {
      "cell_type": "markdown",
      "source": [
        "**Dla danych nieprzeprocesowanych algorytm uzyskał średnią trafność predykcji (CV mean score) oscylującą między 0,68 a 0,86 w zależności od parametrów. Oznacza to, że las losowy uzyskał wyniki przewyższające losowość, ale jakość ta jest niska w porównaniu z wynikami osiąganymi dla przetworzonych danych. Wyniki te sugerują, że dane przed wykonaniem PCA mają zbyt wiele zmiennych objaśniających lub te zmienne nie są dostatecznie skorelowane z cechami, których wartości chcemy przewidywać. Dlatego przeprowadzono PCA, aby zmniejszyć wymiarowość danych i usunąć korelacje między nimi.**\n",
        "\n",
        "**Warto zauważyć, że w przypadku danych po wykonaniu PCA wyniki osiągane przez lasy losowe były znacznie lepsze niż dla danych nieprzetworzonych. Wartości trafności predykcji wzrosły o około 10% dla wszystkich wartości parametrów, osiągając poziom około 0,9 dla większości ustawień parametrów. Oznacza to, że dane po wykonaniu PCA są bardziej skorelowane z cechami, których wartości chcemy przewidywać, a zredukowanie liczby wymiarów zmniejszyło ilość szumu i zbędnych informacji w danych. Wnioskiem jest, że przeprowadzenie PCA na danych przed budową modelu może przynieść korzyści w postaci poprawy jakości predykcji i zmniejszenia wymagań obliczeniowych.**"
      ],
      "metadata": {
        "id": "BeoqF_KWbtBK"
      }
    },
    {
      "cell_type": "code",
      "source": [],
      "metadata": {
        "id": "48Ma9PMbbyHU"
      },
      "execution_count": null,
      "outputs": []
    }
  ],
  "metadata": {
    "colab": {
      "provenance": [],
      "collapsed_sections": [
        "47JcAld_ynZE"
      ]
    },
    "kernelspec": {
      "display_name": "Python 3",
      "name": "python3"
    },
    "language_info": {
      "name": "python"
    }
  },
  "nbformat": 4,
  "nbformat_minor": 0
}